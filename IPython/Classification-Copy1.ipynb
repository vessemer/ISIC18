{
 "cells": [
  {
   "cell_type": "code",
   "execution_count": 1,
   "metadata": {},
   "outputs": [],
   "source": [
    "%matplotlib inline\n",
    "from matplotlib import pyplot as plt"
   ]
  },
  {
   "cell_type": "code",
   "execution_count": 2,
   "metadata": {},
   "outputs": [],
   "source": [
    "# import torch.multiprocessing as multiprocessing\n",
    "# import multiprocessing as multiprocessing\n",
    "\n",
    "# multiprocessing.set_start_method('spawn')"
   ]
  },
  {
   "cell_type": "code",
   "execution_count": 3,
   "metadata": {},
   "outputs": [],
   "source": [
    "# import resource\n",
    "\n",
    "# rlimit = resource.getrlimit(resource.RLIMIT_NOFILE)\n",
    "# resource.setrlimit(resource.RLIMIT_NOFILE, (2048, rlimit[1]))"
   ]
  },
  {
   "cell_type": "code",
   "execution_count": 4,
   "metadata": {},
   "outputs": [],
   "source": [
    "import torch\n",
    "import torch.nn.functional as F\n",
    "\n",
    "from torch import optim\n",
    "from torch import nn\n",
    "from torch.utils.data import DataLoader\n",
    "from torch.autograd import Variable"
   ]
  },
  {
   "cell_type": "code",
   "execution_count": null,
   "metadata": {},
   "outputs": [],
   "source": [
    "import os, random, collections\n",
    "import pandas as pd\n",
    "import cv2\n",
    "import numpy as np\n",
    "import pandas as pd\n",
    "import pickle\n",
    "\n",
    "from tqdm import tqdm as tqdm\n",
    "from IPython.display import clear_output\n",
    "\n",
    "from torchvision import transforms"
   ]
  },
  {
   "cell_type": "code",
   "execution_count": null,
   "metadata": {},
   "outputs": [],
   "source": [
    "from collections import defaultdict"
   ]
  },
  {
   "cell_type": "code",
   "execution_count": null,
   "metadata": {},
   "outputs": [],
   "source": [
    "import sys\n",
    "sys.path.append('/root/inplace_abn/')\n",
    "sys.path.append('..')\n",
    "\n",
    "\n",
    "from zoo.unet import DPNUnet\n",
    "from zoo.dpn import dpn92\n",
    "from utils.classification_dataset import ISIC_Dataset, EqualizedSampler, ValSampler, MEAN, STD\n",
    "\n",
    "from utils.losses import BCEDiceJaccardLoss\n",
    "from utils.metrics import calc_iou\n",
    "from utils.hard_negative import HardNegativeMiner\n",
    "\n",
    "from utils.attributes_augmentations import Augmentation\n",
    "%load_ext autoreload\n",
    "%autoreload 2"
   ]
  },
  {
   "cell_type": "code",
   "execution_count": null,
   "metadata": {},
   "outputs": [],
   "source": [
    "import os\n",
    "os.environ[\"CUDA_DEVICE_ORDER\"]=\"PCI_BUS_ID\"   # see issue #152\n",
    "os.environ[\"CUDA_VISIBLE_DEVICES\"]=\"0\""
   ]
  },
  {
   "cell_type": "code",
   "execution_count": null,
   "metadata": {},
   "outputs": [],
   "source": [
    "# GPU_IDX = 1\n",
    "EPS = 1e-5\n",
    "LR_GAMMA = .95\n",
    "SEED = 42\n",
    "EPOCHS_NB = 50\n",
    "PATHS = {\n",
    "    'DATA': '../data/ISIC2018_Task3_Training_Input/',\n",
    "    'CSV': '../data/ISIC2018_Task3_Training_GroundTruth/\\\n",
    "ISIC2018_Task3_Training_GroundTruth.csv'\n",
    "\n",
    "}"
   ]
  },
  {
   "cell_type": "code",
   "execution_count": null,
   "metadata": {},
   "outputs": [],
   "source": [
    "def infer_on_dataset(model, dataset, idx, verbose=False, suffix=''):\n",
    "    data = dataset[(dataset.keys[idx], 0)]\n",
    "    pred_mask = F.sigmoid(\n",
    "        model.forward(Variable(data['images'].unsqueeze(0)).cuda())[0]\n",
    "    ).data.cpu().numpy()\n",
    "    \n",
    "    image = (data['images'].numpy().T * STD + MEAN)[..., ::-1]\n",
    "    true_mask = data['masks'].numpy().T\n",
    "    channel = np.unique(np.where(true_mask)[-1]).min()\n",
    "    pred_mask = pred_mask.T[..., channel]\n",
    "    true_mask = true_mask[..., channel]\n",
    "    \n",
    "    if verbose:\n",
    "        _, ax = plt.subplots(ncols=3, figsize=(15, 5))\n",
    "        ax[0].imshow(image)\n",
    "        ax[1].imshow(true_mask)\n",
    "        ax[2].imshow(pred_mask)\n",
    "    np.save('pics/image_{}'.format(suffix), image)\n",
    "    np.save('pics/pred_mask_{}'.format(suffix), pred_mask)\n",
    "    np.save('pics/true_mask_{}'.format(suffix), true_mask)"
   ]
  },
  {
   "cell_type": "code",
   "execution_count": 11,
   "metadata": {},
   "outputs": [],
   "source": [
    "CUDA_IDX = 0\n",
    "torch.cuda.set_device(CUDA_IDX)"
   ]
  },
  {
   "cell_type": "code",
   "execution_count": 12,
   "metadata": {},
   "outputs": [],
   "source": [
    "def freeze(model, freeze=True):\n",
    "    for child in model.children():\n",
    "        for param in child.parameters():\n",
    "            param.requires_grad != freeze\n",
    "    return model\n",
    "\n",
    "def unfreeze_bn(model):\n",
    "    if isinstance(model, nn.BatchNorm2d):\n",
    "        for param in model.parameters():\n",
    "            param.requires_grad = True\n",
    "\n",
    "    model = list(model.children())\n",
    "    if len(model):\n",
    "        for child in model:\n",
    "            unfreeze_bn(child)\n",
    "    return None\n",
    "\n",
    "def unfreeze_clf(model):\n",
    "    for child in model.children():\n",
    "        if isinstance(child, nn.Conv2d):\n",
    "            clf = child\n",
    "    for param in clf.parameters():\n",
    "        param.requires_grad = True\n",
    "\n",
    "    return model\n"
   ]
  },
  {
   "cell_type": "code",
   "execution_count": 13,
   "metadata": {},
   "outputs": [],
   "source": [
    "def get_datasets(data_dir, fold, df, aug_strength=1.):\n",
    "    train_dataset = ISIC_Dataset(data_dir, df, seed=SEED,\n",
    "                                 augmentator=Augmentation, aug_params={\n",
    "                                     'side': 448, \n",
    "                                     'strength': aug_strength\n",
    "                                 }, is_test=True, part=fold, partsamount=4, exclude=True)\n",
    "    val_dataset = ISIC_Dataset(data_dir, df, seed=SEED,\n",
    "                               augmentator=Augmentation, aug_params={\n",
    "                                   'side': 448\n",
    "                               }, \n",
    "                               is_test=True, part=fold, partsamount=4, exclude=False)\n",
    "    return train_dataset, val_dataset\n",
    "\n",
    "\n",
    "def get_datagens(train_dataset, val_dataset, df, train_batch_size=28):\n",
    "    train_datagen = torch.utils.data.DataLoader(train_dataset, \n",
    "                                                sampler=EqualizedSampler(train_dataset, df), \n",
    "                                                batch_size=train_batch_size, \n",
    "                                                num_workers=0)\n",
    "    val_datagen = torch.utils.data.DataLoader(val_dataset,\n",
    "                                              sampler=ValSampler(val_dataset, df), \n",
    "                                              batch_size=1,\n",
    "                                              num_workers=0)\n",
    "    return train_datagen, val_datagen\n",
    "\n",
    "\n",
    "def get_model(checkpoint=None, map_location=None, devices=None):\n",
    "    model = dpn92(3, 7)\n",
    "    model.cuda();\n",
    "\n",
    "    if checkpoint is not None:\n",
    "        sd = torch.load(checkpoint, map_location).state_dict()\n",
    "        msd = model.state_dict()\n",
    "        sd = {k: v for k, v in sd.items() if k in msd}\n",
    "        msd.update(sd)\n",
    "        model.load_state_dict(msd)\n",
    "\n",
    "    if devices is not None:\n",
    "        model = torch.nn.DataParallel(model, device_ids=devices)\n",
    "\n",
    "    return model"
   ]
  },
  {
   "cell_type": "code",
   "execution_count": 14,
   "metadata": {},
   "outputs": [],
   "source": [
    "def make_step(model, data, loss, opt=None, training=True):\n",
    "    images = Variable(data['images']).cuda()\n",
    "    masks = Variable(data['class']).cuda()\n",
    "\n",
    "    predictions = model(images)\n",
    "    l = loss(predictions, masks)\n",
    "    pred = F.softmax(\n",
    "        predictions,\n",
    "        dim=1\n",
    "    ).data.cpu().numpy()\n",
    "\n",
    "    if training:\n",
    "        l.backward()\n",
    "        opt.step()\n",
    "\n",
    "    return {\n",
    "        'loss': l, \n",
    "        'preds': pred,\n",
    "        'trues': data['class']\n",
    "    }"
   ]
  },
  {
   "cell_type": "code",
   "execution_count": 15,
   "metadata": {},
   "outputs": [],
   "source": [
    "def train_on_epoch(model, loss, opt, datagen, epsilon=1e-5, hard_negative_miner=None):\n",
    "    model.train()\n",
    "    meters = list()\n",
    "    preds = list()\n",
    "\n",
    "    for images_, class_ in tqdm(datagen):\n",
    "        opt.zero_grad()\n",
    "        data = {\n",
    "            'images': images_, \n",
    "            'class': class_[:, 0]\n",
    "        }\n",
    "        meters.append(make_step(model, data, loss, opt, training=True))\n",
    "        preds.append({key: meters[-1][key] for key in ['preds', 'trues']})\n",
    "\n",
    "        if hard_negative_miner is not None:\n",
    "            hard_negative_miner.update_cache(meters[-1], data)\n",
    "            if hard_negative_miner.need_iter():\n",
    "                make_step(model, hard_negative_miner.get_cache(), loss, opt, training=True)\n",
    "                hard_negative_miner.invalidate_cache()\n",
    "\n",
    "    losses = sum([meter['loss'] for meter in meters])\n",
    "    losses = losses.data.cpu().numpy() / len(meters)\n",
    "#     ious = sum([meter['preds'] for meter in meters]) / sum([meter['union'] for meter in meters])\n",
    "    \n",
    "    opt.zero_grad()\n",
    "\n",
    "    return losses, preds"
   ]
  },
  {
   "cell_type": "code",
   "execution_count": 16,
   "metadata": {},
   "outputs": [],
   "source": [
    "def validate(model, loss, datagen):\n",
    "    model.eval()\n",
    "    preds, losses = list(), list()\n",
    "\n",
    "    with torch.no_grad():\n",
    "        for images_, class_ in tqdm(datagen):\n",
    "            meter = make_step(model, {\n",
    "                'images': images_, \n",
    "                'class': class_[:, 0]\n",
    "            }, loss, training=False)\n",
    "            preds.append({key: meter[key] for key in ['preds', 'trues']})\n",
    "            losses.append(meter['loss'].data.cpu().numpy())\n",
    "\n",
    "    return losses, preds"
   ]
  },
  {
   "cell_type": "code",
   "execution_count": 17,
   "metadata": {},
   "outputs": [],
   "source": [
    "def visualize(train_losses, val_losses):\n",
    "    clear_output(wait=True)\n",
    "    _, axes = plt.subplots(ncols=2, figsize=(15, 6))\n",
    "\n",
    "    axes[0].plot(train_losses, label='Train')\n",
    "#     for i, key in enumerate(['segm']):\n",
    "#             axes[0].plot([v[key] for v in train_iou], label='Train {}'.format(key), alpha=0.7, color='C{}'.format(i * 2))    \n",
    "#             axes[0].plot([v[key] for v in val_iou], label='Val {}'.format(key), alpha=0.7, color='C{}'.format(i * 2 + 1))\n",
    "\n",
    "    axes[0].plot(val_losses, label='Val')\n",
    "    axes[0].set_title('Loss')\n",
    "    axes[0].legend()\n",
    "    axes[0].grid()\n",
    "\n",
    "#     key = 'full_attr'\n",
    "#     nb_classes = len(val_iou[0][key])\n",
    "\n",
    "#     for i in range(nb_classes):\n",
    "#         axes[1].plot([v[key][i] for v in train_iou], label='Train {}'.format(attributes[i].split('_')[-2]), alpha=0.7)\n",
    "    \n",
    "#     for i in range(nb_classes):\n",
    "#         axes[1].plot([v[key][i] for v in val_iou], label='Val {}'.format(attributes[i].split('_')[-2]), alpha=0.7)\n",
    "\n",
    "#     axes[1].set_title('IoU')\n",
    "#     axes[1].legend()\n",
    "#     axes[1].grid()\n",
    "\n",
    "    plt.show()"
   ]
  },
  {
   "cell_type": "code",
   "execution_count": 18,
   "metadata": {},
   "outputs": [],
   "source": [
    "def dump_intermediates(model, val_dataset, fold, epoch_i):\n",
    "    model.eval()\n",
    "    infer_on_dataset(\n",
    "        model, val_dataset, idx=0, verbose=False, suffix='fold_{}_val_idx_{}_epoch_{}'.format(fold, 0, epoch_i)\n",
    "    )\n",
    "    infer_on_dataset(\n",
    "        model, val_dataset, idx=32, verbose=False, suffix='fold_{}_val_idx_{}_epoch_{}'.format(fold, 32, epoch_i)\n",
    "    )\n",
    "    infer_on_dataset(\n",
    "        model, val_dataset, idx=0, verbose=True, suffix='fold_{}_val_idx_{}_epoch_{}'.format(fold, 17, epoch_i)\n",
    "    )"
   ]
  },
  {
   "cell_type": "code",
   "execution_count": 19,
   "metadata": {},
   "outputs": [],
   "source": [
    "def orchestrate(data_dir, fold, df, model=None, losses=None, model_pth=None, \n",
    "                epoch_nb=1, map_location=None, clf_freeze_iter=0, postfix='',\n",
    "                lr=1e-4, aug_strength=1., hard_negative_miner=None,\n",
    "                checkpoints_pth='checkpoints', verbose=False, devices=None, \n",
    "                train_batch_size=8, lr_scheduler=None, strength_decay=1., \n",
    "                min_strength=.7, converge_appearence=.1):\n",
    "\n",
    "    if checkpoints_pth is not None:\n",
    "        path = os.path.join(checkpoints_pth, 'fold_{}_checkpoint.epoch_{}' + postfix)\n",
    "    if model is None:\n",
    "        model = get_model(model_pth, map_location, devices)\n",
    "    if model_pth is not None:\n",
    "        pl = path.format(fold, 'loss')\n",
    "        if os.path.isfile(pl):\n",
    "            losses = pickle.load(open(pl, 'rb'))\n",
    "    if losses is None:\n",
    "        losses = defaultdict(list)\n",
    "    last_epoch = len(losses)\n",
    "\n",
    "    loss = nn.CrossEntropyLoss()\n",
    "    opt = optim.Adam(model.parameters(), lr=lr)\n",
    "    for group in opt.param_groups:\n",
    "        group.setdefault('initial_lr', group['lr'])\n",
    "\n",
    "    if lr_scheduler is not None:\n",
    "        lr_scheduler = lr_scheduler(opt, LR_GAMMA, last_epoch)\n",
    "\n",
    "    train_losses, val_losses = [], []\n",
    "    train_iou, val_iou = [], []\n",
    "    \n",
    "    train_dataset, val_dataset = get_datasets(data_dir, fold, df=df, aug_strength=aug_strength * strength_decay ** last_epoch)\n",
    "    train_datagen, val_datagen = get_datagens(train_dataset, val_dataset, df=df, train_batch_size=train_batch_size)\n",
    "\n",
    "    try:\n",
    "        for epoch_i in range(last_epoch, epoch_nb):\n",
    "            model = freeze(model, freeze=(epoch_i >= clf_freeze_iter))\n",
    "            unfreeze_bn(model)\n",
    "            model = unfreeze_clf(model)\n",
    "\n",
    "            if lr_scheduler is not None:\n",
    "                lr_scheduler.step()\n",
    "\n",
    "            l, iou = train_on_epoch(model, loss, opt, train_datagen, hard_negative_miner=hard_negative_miner)\n",
    "            losses['train_losses'].append(l)\n",
    "\n",
    "            l, ious = validate(model, loss, val_datagen)\n",
    "            losses['val_losses'].append(np.mean(l))\n",
    "\n",
    "            if verbose:\n",
    "                visualize(\n",
    "                    losses['train_losses'], \n",
    "                    losses['val_losses'], \n",
    "#                     losses['train_iou'], \n",
    "#                     losses['val_iou']\n",
    "                )\n",
    "\n",
    "            if train_dataset.aug_params['strength'] > min_strength:\n",
    "                train_dataset.aug_strength_decay(strength_decay)\n",
    "\n",
    "            if (checkpoints_pth is not None) and ((epoch_i) % 1 == 0):\n",
    "                torch.save(model, path.format(fold, epoch_i))\n",
    "                pickle.dump(losses, open(path.format(fold, 'loss'), 'wb'))\n",
    "                print(path)\n",
    "\n",
    "            train_dataset.converge_appearence(decay=converge_appearence)\n",
    "\n",
    "    except KeyboardInterrupt:\n",
    "        return model, losses\n",
    "\n",
    "    return model, losses"
   ]
  },
  {
   "cell_type": "code",
   "execution_count": 20,
   "metadata": {},
   "outputs": [],
   "source": [
    "import pandas as pd\n",
    "\n",
    "df = pd.read_csv(PATHS['CSV'])"
   ]
  },
  {
   "cell_type": "code",
   "execution_count": 21,
   "metadata": {},
   "outputs": [],
   "source": [
    "cv2.setNumThreads(0)"
   ]
  },
  {
   "cell_type": "code",
   "execution_count": 22,
   "metadata": {},
   "outputs": [],
   "source": [
    "EPOCHS_NB = 20"
   ]
  },
  {
   "cell_type": "code",
   "execution_count": null,
   "metadata": {},
   "outputs": [
    {
     "data": {
      "image/png": "[encoded data removed]",
      "text/plain": [
       "<Figure size 1080x432 with 2 Axes>"
      ]
     },
     "metadata": {},
     "output_type": "display_data"
    },
    {
     "name": "stderr",
     "output_type": "stream",
     "text": [
      "  0%|          | 0/939 [00:00<?, ?it/s]"
     ]
    },
    {
     "name": "stdout",
     "output_type": "stream",
     "text": [
      "classification_checkpoints/dpn92/fold_{}_checkpoint.epoch_{}_pure\n",
      "appearence recomputed\n",
      "[0.14285714 0.14285714 0.14285714 0.14285714 0.14285714 0.14285714\n",
      " 0.14285714]\n"
     ]
    },
    {
     "name": "stderr",
     "output_type": "stream",
     "text": [
      "  6%|▋         | 60/939 [00:46<11:16,  1.30it/s]"
     ]
    }
   ],
   "source": [
    "fold = 0\n",
    "model, losses = orchestrate(\n",
    "    data_dir=PATHS['DATA'],\n",
    "    fold=fold,\n",
    "    df=df,\n",
    "    postfix='_pure',\n",
    "    epoch_nb=EPOCHS_NB,\n",
    "    checkpoints_pth='classification_checkpoints/dpn92/', \n",
    "    lr=1e-4,\n",
    "    aug_strength=1.8,\n",
    "    converge_appearence=.0,\n",
    "    strength_decay=.97, \n",
    "    min_strength=1.,\n",
    "    verbose=True,\n",
    "    train_batch_size=8,\n",
    "    clf_freeze_iter=0,\n",
    "    hard_negative_miner=HardNegativeMiner(rate=10),\n",
    "    lr_scheduler=optim.lr_scheduler.ExponentialLR,\n",
    "    devices=None\n",
    ")"
   ]
  },
  {
   "cell_type": "code",
   "execution_count": null,
   "metadata": {},
   "outputs": [],
   "source": [
    "fold = 1\n",
    "model, losses = orchestrate(\n",
    "    data_dir=PATHS['DATA'],\n",
    "    fold=fold,\n",
    "    df=df,\n",
    "    postfix='_pure',\n",
    "    epoch_nb=EPOCHS_NB,\n",
    "    checkpoints_pth='classification_checkpoints/dpn92/', \n",
    "    lr=1e-4,\n",
    "    aug_strength=1.8,\n",
    "    converge_appearence=.0,\n",
    "    strength_decay=.97, \n",
    "    min_strength=1.,\n",
    "    verbose=True,\n",
    "    train_batch_size=8,\n",
    "    clf_freeze_iter=0,\n",
    "    hard_negative_miner=HardNegativeMiner(rate=10),\n",
    "    lr_scheduler=optim.lr_scheduler.ExponentialLR,\n",
    "    devices=None\n",
    ")"
   ]
  },
  {
   "cell_type": "code",
   "execution_count": null,
   "metadata": {},
   "outputs": [],
   "source": [
    "fold = 2\n",
    "model, losses = orchestrate(\n",
    "    data_dir=PATHS['DATA'],\n",
    "    fold=fold,\n",
    "    df=df,\n",
    "    postfix='_pure',\n",
    "    epoch_nb=EPOCHS_NB,\n",
    "    checkpoints_pth='classification_checkpoints/dpn92/', \n",
    "    lr=1e-4,\n",
    "    aug_strength=1.8,\n",
    "    converge_appearence=.0,\n",
    "    strength_decay=.97, \n",
    "    min_strength=1.,\n",
    "    verbose=True,\n",
    "    train_batch_size=8,\n",
    "    clf_freeze_iter=0,\n",
    "    hard_negative_miner=HardNegativeMiner(rate=10),\n",
    "    lr_scheduler=optim.lr_scheduler.ExponentialLR,\n",
    "    devices=None\n",
    ")"
   ]
  },
  {
   "cell_type": "code",
   "execution_count": null,
   "metadata": {},
   "outputs": [],
   "source": [
    "fold = 3\n",
    "model, losses = orchestrate(\n",
    "    data_dir=PATHS['DATA'],\n",
    "    fold=fold,\n",
    "    df=df,\n",
    "    postfix='_pure',\n",
    "    epoch_nb=EPOCHS_NB,\n",
    "    checkpoints_pth='classification_checkpoints/dpn92/', \n",
    "    lr=1e-4,\n",
    "    aug_strength=1.8,\n",
    "    converge_appearence=.0,\n",
    "    strength_decay=.97, \n",
    "    min_strength=1.,\n",
    "    verbose=True,\n",
    "    train_batch_size=8,\n",
    "    clf_freeze_iter=0,\n",
    "    hard_negative_miner=HardNegativeMiner(rate=10),\n",
    "    lr_scheduler=optim.lr_scheduler.ExponentialLR,\n",
    "    devices=None\n",
    ")"
   ]
  },
  {
   "cell_type": "code",
   "execution_count": null,
   "metadata": {},
   "outputs": [],
   "source": []
  },
  {
   "cell_type": "code",
   "execution_count": null,
   "metadata": {},
   "outputs": [],
   "source": []
  },
  {
   "cell_type": "code",
   "execution_count": null,
   "metadata": {},
   "outputs": [],
   "source": []
  },
  {
   "cell_type": "code",
   "execution_count": null,
   "metadata": {},
   "outputs": [],
   "source": []
  },
  {
   "cell_type": "code",
   "execution_count": null,
   "metadata": {},
   "outputs": [],
   "source": []
  },
  {
   "cell_type": "code",
   "execution_count": null,
   "metadata": {},
   "outputs": [],
   "source": []
  }
 ],
 "metadata": {
  "anaconda-cloud": {},
  "kernelspec": {
   "display_name": "Python 3",
   "language": "python",
   "name": "python3"
  },
  "language_info": {
   "codemirror_mode": {
    "name": "ipython",
    "version": 3
   },
   "file_extension": ".py",
   "mimetype": "text/x-python",
   "name": "python",
   "nbconvert_exporter": "python",
   "pygments_lexer": "ipython3",
   "version": "3.5.2"
  }
 },
 "nbformat": 4,
 "nbformat_minor": 2
}
