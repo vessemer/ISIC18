{
 "cells": [
  {
   "cell_type": "code",
   "execution_count": 1,
   "metadata": {},
   "outputs": [],
   "source": [
    "%matplotlib inline\n",
    "from matplotlib import pyplot as plt"
   ]
  },
  {
   "cell_type": "code",
   "execution_count": 2,
   "metadata": {},
   "outputs": [],
   "source": [
    "import cv2\n",
    "\n",
    "cv2.setNumThreads(0)\n",
    "cv2.ocl.setUseOpenCL(False)"
   ]
  },
  {
   "cell_type": "code",
   "execution_count": 3,
   "metadata": {},
   "outputs": [],
   "source": [
    "import torch.multiprocessing as multiprocessing\n",
    "# import multiprocessing as multiprocessing\n",
    "\n",
    "multiprocessing.set_start_method('forkserver')"
   ]
  },
  {
   "cell_type": "code",
   "execution_count": 4,
   "metadata": {},
   "outputs": [],
   "source": [
    "import resource\n",
    "\n",
    "rlimit = resource.getrlimit(resource.RLIMIT_NOFILE)\n",
    "resource.setrlimit(resource.RLIMIT_NOFILE, (2048 * 4, rlimit[1]))"
   ]
  },
  {
   "cell_type": "code",
   "execution_count": 5,
   "metadata": {},
   "outputs": [],
   "source": [
    "import torch\n",
    "import torch.nn.functional as F\n",
    "\n",
    "from torch import optim\n",
    "from torch import nn\n",
    "from torch.utils.data import DataLoader\n",
    "from torch.autograd import Variable"
   ]
  },
  {
   "cell_type": "code",
   "execution_count": 6,
   "metadata": {},
   "outputs": [],
   "source": [
    "import os, random, collections\n",
    "import pandas as pd\n",
    "# import cv2\n",
    "import numpy as np\n",
    "import pandas as pd\n",
    "import pickle\n",
    "\n",
    "from glob import glob\n",
    "\n",
    "from tqdm import tqdm as tqdm\n",
    "from IPython.display import clear_output\n",
    "\n",
    "from torchvision import transforms"
   ]
  },
  {
   "cell_type": "code",
   "execution_count": 7,
   "metadata": {},
   "outputs": [],
   "source": [
    "from collections import defaultdict"
   ]
  },
  {
   "cell_type": "code",
   "execution_count": 8,
   "metadata": {},
   "outputs": [],
   "source": [
    "import sys\n",
    "sys.path.append('/root/inplace_abn/')\n",
    "sys.path.append('..')\n",
    "\n",
    "\n",
    "from zoo.unet import DPNUnet\n",
    "from zoo.dpn import dpn92\n",
    "from zoo.resnext import ResNeXt101_64x4d, resnext101_64x4d\n",
    "from utils.classification_dataset import ISIC_Dataset, EqualizedSampler, ValSampler, MEAN, STD, ATTRIBUTES\n",
    "%load_ext autoreload\n",
    "%autoreload 2\n",
    "\n",
    "\n",
    "from utils.attributes_augmentations import Augmentation\n",
    "\n",
    "from utils.losses import BCEDiceJaccardLoss\n",
    "from utils.metrics import calc_iou\n",
    "from utils.hard_negative import HardNegativeMiner\n",
    "from utils.cyclic_lr import CyclicLR, ExpLR\n"
   ]
  },
  {
   "cell_type": "code",
   "execution_count": 9,
   "metadata": {},
   "outputs": [],
   "source": [
    "import os\n",
    "\n",
    "# os.environ[\"CUDA_DEVICE_ORDER\"]=\"PCI_BUS_ID\"   # see issue #152\n",
    "# os.environ[\"CUDA_VISIBLE_DEVICES\"]=[\"0\", \"1\"]\n",
    "# os.environ['CUDA_LAUNCH_BLOCKING'] = \"1\""
   ]
  },
  {
   "cell_type": "code",
   "execution_count": 10,
   "metadata": {},
   "outputs": [],
   "source": [
    "# GPU_IDX = 1\n",
    "EPS = 1e-5\n",
    "LR_GAMMA = .95\n",
    "SEED = 42\n",
    "VRS_NB = 3\n",
    "\n",
    "CLASS_NB = 7\n",
    "DECAY_EPOCHS = 13\n",
    "EPOCHS_NB = DECAY_EPOCHS + 0\n",
    "\n",
    "model_pth = 'attributes_checkpoints/fpn_dpn92/fold_{}_checkpoint.epoch_39'\n",
    "\n",
    "PATHS = {\n",
    "    'DATA': '../data/ISIC2018_Task3_Training_Input/',\n",
    "    'CSV': '../data/ISIC2018_Task3_Training_GroundTruth/\\\n",
    "ISIC2018_Task3_Training_GroundTruth.csv'\n",
    "\n",
    "}"
   ]
  },
  {
   "cell_type": "code",
   "execution_count": 11,
   "metadata": {},
   "outputs": [],
   "source": [
    "import itertools\n",
    "from sklearn.metrics import confusion_matrix\n",
    "\n",
    "\n",
    "def plot_confusion_matrix(cm, classes,\n",
    "                          title='Confusion matrix',\n",
    "                          cmap=plt.cm.Blues,\n",
    "                          axes=None, fig=None):\n",
    "    \"\"\"\n",
    "    This function prints and plots the confusion matrix.\n",
    "    Normalization can be applied by setting `normalize=True`.\n",
    "    \"\"\"\n",
    "    cm_norm = cm.astype('float') / cm.sum(axis=1)[:, np.newaxis]\n",
    "\n",
    "    if axes is None:\n",
    "        axes = plt\n",
    "        fig = plt\n",
    "    cax = axes.imshow(cm_norm, interpolation='nearest', cmap=cmap)\n",
    "    axes.set_title(title)\n",
    "    fig.colorbar(cax)\n",
    "    tick_marks = np.arange(len(classes))\n",
    "    axes.set_xticks(tick_marks)\n",
    "    axes.set_xticklabels(classes)\n",
    "    axes.set_yticks(tick_marks)\n",
    "    axes.set_yticklabels(classes)\n",
    "    axes.tick_params(axis='x', rotation=30)\n",
    "\n",
    "    fmt = 'd'\n",
    "    thresh = cm.max() / 2.\n",
    "    for i, j in itertools.product(range(cm.shape[0]), range(cm.shape[1])):\n",
    "        plt.text(j, i, format(cm[i, j], fmt),\n",
    "                 horizontalalignment=\"center\",\n",
    "                 color=\"white\" if cm[i, j] > thresh else \"black\")\n",
    "\n",
    "    fig.tight_layout()\n",
    "    axes.set_ylabel('True label')\n",
    "    axes.set_xlabel('Predicted label')\n"
   ]
  },
  {
   "cell_type": "code",
   "execution_count": 12,
   "metadata": {},
   "outputs": [],
   "source": [
    "def infer_on_dataset(model, dataset, idx, verbose=False, suffix=''):\n",
    "    data = dataset[(dataset.keys[idx], 0)]\n",
    "    pred_mask = F.sigmoid(\n",
    "        model.forward(Variable(data['images'].unsqueeze(0)).cuda())[0]\n",
    "    ).data.cpu().numpy()\n",
    "    \n",
    "    image = (data['images'].numpy().T * STD + MEAN)[..., ::-1]\n",
    "    true_mask = data['masks'].numpy().T\n",
    "    channel = np.unique(np.where(true_mask)[-1]).min()\n",
    "    pred_mask = pred_mask.T[..., channel]\n",
    "    true_mask = true_mask[..., channel]\n",
    "    \n",
    "    if verbose:\n",
    "        _, ax = plt.subplots(ncols=3, figsize=(15, 5))\n",
    "        ax[0].imshow(image)\n",
    "        ax[1].imshow(true_mask)\n",
    "        ax[2].imshow(pred_mask)\n",
    "    np.save('pics/image_{}'.format(suffix), image)\n",
    "    np.save('pics/pred_mask_{}'.format(suffix), pred_mask)\n",
    "    np.save('pics/true_mask_{}'.format(suffix), true_mask)"
   ]
  },
  {
   "cell_type": "code",
   "execution_count": 13,
   "metadata": {},
   "outputs": [],
   "source": [
    "CUDA_IDX = 0\n",
    "torch.cuda.set_device(CUDA_IDX)"
   ]
  },
  {
   "cell_type": "code",
   "execution_count": 14,
   "metadata": {},
   "outputs": [],
   "source": [
    "# def freeze(model, freeze=True):\n",
    "#     for child in model.children():\n",
    "#         for param in child.parameters():\n",
    "#             param.requires_grad != freeze\n",
    "#     return model\n",
    "\n",
    "# def unfreeze_bn(model):\n",
    "#     if isinstance(model, nn.BatchNorm2d):\n",
    "#         for param in model.parameters():\n",
    "#             param.requires_grad = True\n",
    "\n",
    "#     model = list(model.children())\n",
    "#     if len(model):\n",
    "#         for child in model:\n",
    "#             unfreeze_bn(child)\n",
    "#     return None\n",
    "\n",
    "# def unfreeze_clf(model):\n",
    "#     for child in model.children():\n",
    "#         if isinstance(child, nn.Conv2d):\n",
    "#             clf = child\n",
    "#     for param in clf.parameters():\n",
    "#         param.requires_grad = True\n",
    "\n",
    "#     return model\n"
   ]
  },
  {
   "cell_type": "code",
   "execution_count": 15,
   "metadata": {},
   "outputs": [],
   "source": [
    "def freeze(model, freeze_=True):\n",
    "    if hasattr(model, 'children') and len(list(model.children())):\n",
    "        model = list(model.children())\n",
    "        for child in model:\n",
    "            freeze(child, freeze_)\n",
    "    elif hasattr(model, 'parameters'):\n",
    "        for param in model.parameters():\n",
    "            param.requires_grad = not freeze_\n",
    "\n",
    "def unfreeze_bn(model):\n",
    "    if isinstance(model, nn.BatchNorm2d):\n",
    "        for param in model.parameters():\n",
    "            param.requires_grad = True\n",
    "\n",
    "    model = list(model.children())\n",
    "    if len(model):\n",
    "        for child in model:\n",
    "            unfreeze_bn(child)\n",
    "    return None\n",
    "\n",
    "def unfreeze_clf(model):\n",
    "    if hasattr(model, 'classifier'):\n",
    "        for param in model.classifier.parameters():\n",
    "            param.requires_grad = True\n",
    "    if hasattr(model, 'last_linear'):\n",
    "        for param in model.last_linear.parameters():\n",
    "            param.requires_grad = True\n",
    "    elif len(list(model.children())):\n",
    "        for child in model.children():\n",
    "            unfreeze_clf(child)"
   ]
  },
  {
   "cell_type": "code",
   "execution_count": 16,
   "metadata": {},
   "outputs": [],
   "source": [
    "def get_datasets(data_dir, fold, df, aug_strength=1.):\n",
    "    train_dataset = ISIC_Dataset(data_dir, df, seed=SEED,\n",
    "                                 augmentator=Augmentation, aug_params={\n",
    "                                     'side': 448, \n",
    "                                     'strength': aug_strength\n",
    "                                 }, is_test=True, part=fold, partsamount=4, exclude=True)\n",
    "    val_dataset = ISIC_Dataset(data_dir, df, seed=SEED,\n",
    "                               augmentator=Augmentation, aug_params={\n",
    "                                   'side': 448\n",
    "                               }, \n",
    "                               is_test=True, part=fold, partsamount=4, exclude=False)\n",
    "    return train_dataset, val_dataset\n",
    "\n",
    "\n",
    "def get_datagens(train_dataset, val_dataset, df, train_batch_size=28):\n",
    "    train_datagen = torch.utils.data.DataLoader(train_dataset, pin_memory=False,\n",
    "                                                sampler=EqualizedSampler(train_dataset, df), \n",
    "                                                batch_size=train_batch_size, \n",
    "                                                num_workers=0)\n",
    "    val_datagen = torch.utils.data.DataLoader(val_dataset,\n",
    "                                              sampler=ValSampler(val_dataset, df), \n",
    "                                              batch_size=16,\n",
    "                                              num_workers=0)\n",
    "    return train_datagen, val_datagen\n",
    "\n",
    "\n",
    "def get_model(checkpoint=None, map_location=None, devices=None):\n",
    "#     model = dpn92(3, 7, pretrained='imagenet+5k')\n",
    "    model = resnext101_64x4d(num_classes=7, pretrained='imagenet')\n",
    "    model.cuda();\n",
    "\n",
    "    if checkpoint is not None:\n",
    "        sd = torch.load(checkpoint, map_location)#.module.state_dict()\n",
    "        msd = model.state_dict()\n",
    "        sd = {k: v for k, v in sd.items() if k in msd}\n",
    "        print('Overlapped keys: {}'.format(len(sd.keys())))\n",
    "        msd.update(sd)\n",
    "        model.load_state_dict(msd)\n",
    "\n",
    "    if devices is not None:\n",
    "        model = torch.nn.DataParallel(model, device_ids=devices)\n",
    "\n",
    "    return model"
   ]
  },
  {
   "cell_type": "code",
   "execution_count": 17,
   "metadata": {},
   "outputs": [],
   "source": [
    "def make_step(model, data, loss, opt=None, training=True):\n",
    "    images = Variable(data['images']).cuda()\n",
    "    masks = Variable(data['class']).cuda()\n",
    "\n",
    "    predictions = model(images)\n",
    "    l = loss(predictions, masks)\n",
    "    pred = F.softmax(\n",
    "        predictions,\n",
    "        dim=1\n",
    "    ).data.cpu().numpy()\n",
    "\n",
    "    if training:\n",
    "        l.backward()\n",
    "        opt.step()\n",
    "\n",
    "    return {\n",
    "        'loss': l, \n",
    "        'preds': pred,\n",
    "        'trues': data['class'].data.cpu().numpy()\n",
    "    }"
   ]
  },
  {
   "cell_type": "code",
   "execution_count": 18,
   "metadata": {},
   "outputs": [],
   "source": [
    "def train_on_epoch(model, loss, opt, datagen, epsilon=1e-5, hard_negative_miner=None, lr_scheduler=None):\n",
    "    model.train()\n",
    "    meters = list()\n",
    "    preds = list()\n",
    "\n",
    "    for images_, class_ in tqdm(datagen):\n",
    "        opt.zero_grad()\n",
    "        data = {\n",
    "            'images': images_, \n",
    "            'class': class_[:, 0]\n",
    "        }\n",
    "        meters.append(make_step(model, data, loss, opt, training=True))\n",
    "        preds.append({key: meters[-1][key] for key in ['preds', 'trues']})\n",
    "        if lr_scheduler is not None:\n",
    "            if hasattr(lr_scheduler, 'batch_step'):\n",
    "                lr_scheduler.batch_step()\n",
    "\n",
    "        if hard_negative_miner is not None:\n",
    "            hard_negative_miner.update_cache(meters[-1], data)\n",
    "            if hard_negative_miner.need_iter():\n",
    "                make_step(model, hard_negative_miner.get_cache(), loss, opt, training=True)\n",
    "                hard_negative_miner.invalidate_cache()\n",
    "\n",
    "    losses = sum([meter['loss'] for meter in meters])\n",
    "    losses = losses.data.cpu().numpy() / len(meters)\n",
    "    pred = np.concatenate([\n",
    "        meter['preds'] for meter in meters\n",
    "    ], axis=0)\n",
    "    trues = np.concatenate([\n",
    "        meter['trues'] for meter in meters\n",
    "    ], axis=0)\n",
    "    pred = np.argmax(pred, axis=1)\n",
    "    opt.zero_grad()\n",
    "\n",
    "    return losses, pred, trues"
   ]
  },
  {
   "cell_type": "code",
   "execution_count": 19,
   "metadata": {},
   "outputs": [],
   "source": [
    "def validate(model, loss, datagen):\n",
    "    model.eval()\n",
    "    trues, preds, losses = list(), list(), list()\n",
    "\n",
    "    with torch.no_grad():\n",
    "        for images_, class_ in tqdm(datagen):\n",
    "            meter = make_step(model, {\n",
    "                'images': images_, \n",
    "                'class': class_[:, 0]\n",
    "            }, loss, training=False)\n",
    "            preds.append(meter['preds'])\n",
    "            trues.append(meter['trues'])\n",
    "            losses.append(meter['loss'].data.cpu().numpy())\n",
    "    \n",
    "    pred = np.concatenate(preds, axis=0)\n",
    "    trues = np.concatenate(trues, axis=0)\n",
    "    pred = np.argmax(pred, axis=1)\n",
    "\n",
    "    return losses, pred, trues"
   ]
  },
  {
   "cell_type": "code",
   "execution_count": 20,
   "metadata": {},
   "outputs": [],
   "source": [
    "def visualize(train_losses, val_losses, train_preds, val_preds, train_trues, val_trues):\n",
    "    clear_output(wait=True)\n",
    "    #np.set_printoptions(precision=2)\n",
    "    \n",
    "    train_cnf_matrix = [confusion_matrix(t, p) for t, p in zip(train_trues, train_preds)]\n",
    "    train_accs = np.array([cnf.diagonal() / cnf.sum(1) for cnf in train_cnf_matrix])\n",
    "    train_accuraacy = np.mean(train_accs, axis=1)\n",
    "\n",
    "    val_cnf_matrix = [confusion_matrix(t, p) for t, p in zip(val_trues, val_preds)]\n",
    "    val_accs = np.array([cnf.diagonal() / cnf.sum(1) for cnf in val_cnf_matrix])\n",
    "    val_accuraacy = np.mean(val_accs, axis=1)\n",
    "\n",
    "    plt.figure()\n",
    "    _, axes = plt.subplots(ncols=2, figsize=(15, 6))\n",
    "\n",
    "    axes[0].plot(train_losses, label='Train loss')\n",
    "    axes[0].plot(val_losses, label='Val loss')\n",
    "    axes[0].plot(train_accuraacy, label='Train acc')\n",
    "    axes[0].plot(val_accuraacy, label='Val acc')\n",
    "    axes[0].set_title('Loss')\n",
    "    axes[0].legend()\n",
    "    axes[0].grid()\n",
    "\n",
    "    for i in range(CLASS_NB):\n",
    "        axes[1].plot([v[i] for v in train_accs], label='Train {}'.format(ATTRIBUTES[i]), alpha=0.7)\n",
    "    \n",
    "    for i in range(CLASS_NB):\n",
    "        axes[1].plot([v[i] for v in val_accs], label='Val {}'.format(ATTRIBUTES[i]), alpha=0.7)\n",
    "\n",
    "    axes[1].set_title('Accs')\n",
    "    axes[1].legend()\n",
    "    axes[1].grid()\n",
    "\n",
    "    plt.show()\n",
    "\n",
    "    # Plot non-normalized confusion matrix\n",
    "    fig = plt.figure(figsize=(15, 6))\n",
    "    axes = fig.add_subplot(121)\n",
    "    plot_confusion_matrix(train_cnf_matrix[-1], classes=ATTRIBUTES,\n",
    "                          title='Train confusion matrix',\n",
    "                          axes=axes, fig=fig);\n",
    "    axes = fig.add_subplot(122)\n",
    "    plot_confusion_matrix(val_cnf_matrix[-1], classes=ATTRIBUTES,\n",
    "                          title='Val confusion matrix',\n",
    "                          axes=axes, fig=fig);\n",
    "    plt.show()"
   ]
  },
  {
   "cell_type": "code",
   "execution_count": 21,
   "metadata": {},
   "outputs": [],
   "source": [
    "def dump_intermediates(model, val_dataset, fold, epoch_i):\n",
    "    model.eval()\n",
    "    infer_on_dataset(\n",
    "        model, val_dataset, idx=0, verbose=False, suffix='fold_{}_val_idx_{}_epoch_{}'.format(fold, 0, epoch_i)\n",
    "    )\n",
    "    infer_on_dataset(\n",
    "        model, val_dataset, idx=32, verbose=False, suffix='fold_{}_val_idx_{}_epoch_{}'.format(fold, 32, epoch_i)\n",
    "    )\n",
    "    infer_on_dataset(\n",
    "        model, val_dataset, idx=0, verbose=True, suffix='fold_{}_val_idx_{}_epoch_{}'.format(fold, 17, epoch_i)\n",
    "    )"
   ]
  },
  {
   "cell_type": "code",
   "execution_count": 22,
   "metadata": {},
   "outputs": [],
   "source": [
    "def prepare_hyps(model, epoch_i, \n",
    "                 clf_freeze_iter=1, sgd_iter=4, verbose=True, iters_in_epoch=800):\n",
    "    freeze(model, freeze_=(epoch_i <= clf_freeze_iter))\n",
    "    unfreeze_bn(model)\n",
    "    unfreeze_clf(model)\n",
    "    params = filter(lambda p: p.requires_grad, model.parameters())\n",
    "\n",
    "    if epoch_i <= clf_freeze_iter:\n",
    "#         opt = optim.Adam(params, lr=5e-4)\n",
    "        opt = optim.SGD(params, momentum=.9, lr=5e-4, nesterov=True)\n",
    "    elif epoch_i <= sgd_iter:\n",
    "        opt = optim.SGD(params, momentum=.9, lr=4e-4, nesterov=True)\n",
    "        epoch_i -= max(0, clf_freeze_iter)\n",
    "    else:\n",
    "        opt = optim.Adam(params, lr=5e-5)\n",
    "        epoch_i -= max(0, sgd_iter)\n",
    "\n",
    "    for group in opt.param_groups:\n",
    "        group.setdefault('initial_lr', group['lr'])\n",
    "\n",
    "    #todo: #### KOSTIL ####\n",
    "    if epoch_i <= DECAY_EPOCHS:\n",
    "        lr_scheduler = optim.lr_scheduler.ExponentialLR(opt, LR_GAMMA, epoch_i - 1)\n",
    "    else:\n",
    "        print('Epoch #{} \\niters in epoch: {}'.format(epoch_i, iters_in_epoch))\n",
    "        lr_scheduler = ExpLR(\n",
    "            opt, src_lr=5e-4, dst_lr=1e-5, \n",
    "            step_size=iters_in_epoch,\n",
    "            last_batch_iteration=epoch_i * iters_in_epoch - 1\n",
    "        )\n",
    "#         lr_scheduler = CyclicLR(\n",
    "#             opt, base_lr=5e-5, max_lr=4e-4, step_size=700, \n",
    "#             mode='triangular2', last_batch_iteration=epoch_i * iters_in_epoch - 1)\n",
    "\n",
    "    if verbose:\n",
    "        print(opt)\n",
    "\n",
    "    return {\n",
    "        'lr_scheduler': lr_scheduler,\n",
    "        'opt': opt,\n",
    "    }"
   ]
  },
  {
   "cell_type": "code",
   "execution_count": 23,
   "metadata": {},
   "outputs": [],
   "source": [
    "def orchestrate(data_dir, fold, df, model=None, losses=None, model_pth=None, \n",
    "                epoch_nb=1, map_location=None, clf_freeze_iter=1, sgd_iter=4,\n",
    "                postfix='', aug_strength=1., hard_negative_miner=None,\n",
    "                checkpoints_pth='checkpoints', verbose=False, devices=None, \n",
    "                train_batch_size=8, lr_scheduler=None, strength_decay=1., \n",
    "                min_strength=.7, converge_appearence=.1):\n",
    "\n",
    "    if checkpoints_pth is not None:\n",
    "        path = os.path.join(checkpoints_pth, 'fold_{}_checkpoint.epoch_{}' + postfix)\n",
    "    if model is None:\n",
    "        model = get_model(model_pth, map_location, devices)\n",
    "    if model_pth is not None:\n",
    "        pl = path.format(fold, 'loss')\n",
    "        if os.path.isfile(pl):\n",
    "            losses = pickle.load(open(pl, 'rb'))\n",
    "    if losses is None:\n",
    "        losses = defaultdict(list)\n",
    "    last_epoch = len(losses['train_pred'])\n",
    "    print('last_epoch: {}'.format(last_epoch))\n",
    "\n",
    "    loss = nn.CrossEntropyLoss()\n",
    "\n",
    "    try:\n",
    "        for epoch_i in range(last_epoch, epoch_nb):\n",
    "            train_dataset, val_dataset = get_datasets(\n",
    "                data_dir, fold, df=df, \n",
    "                aug_strength=aug_strength * strength_decay ** epoch_i\n",
    "            )\n",
    "            train_datagen, val_datagen = get_datagens(\n",
    "                train_dataset, val_dataset, df=df, \n",
    "                train_batch_size=train_batch_size\n",
    "            )\n",
    "\n",
    "            hyps = prepare_hyps(\n",
    "                model, epoch_i, clf_freeze_iter, sgd_iter, verbose, len(train_datagen))\n",
    "            if hasattr(hyps['lr_scheduler'], 'step'):\n",
    "                hyps['lr_scheduler'].step()\n",
    "\n",
    "            l, pred, trues = train_on_epoch(\n",
    "                model, loss, hyps['opt'], train_datagen, \n",
    "                hard_negative_miner=hard_negative_miner,\n",
    "                lr_scheduler=None if DECAY_EPOCHS >= epoch_i else hyps['lr_scheduler']\n",
    "            )\n",
    "            losses['train_losses'].append(l)\n",
    "            losses['train_pred'].append(pred)\n",
    "            losses['train_trues'].append(trues)\n",
    "\n",
    "            l, pred, trues = validate(model, loss, val_datagen)\n",
    "            losses['val_losses'].append(np.mean(l))\n",
    "            losses['val_pred'].append(pred)\n",
    "            losses['val_trues'].append(trues)\n",
    "\n",
    "            if verbose:\n",
    "                visualize(\n",
    "                    losses['train_losses'], \n",
    "                    losses['val_losses'], \n",
    "                    losses['train_pred'],\n",
    "                    losses['val_pred'],\n",
    "                    losses['train_trues'],\n",
    "                    losses['val_trues']\n",
    "                )\n",
    "\n",
    "            if train_dataset.aug_params['strength'] > min_strength:\n",
    "                train_dataset.aug_strength_decay(strength_decay)\n",
    "\n",
    "            if (checkpoints_pth is not None) and ((epoch_i) % 1 == 0):\n",
    "#                 torch.save(model, path.format(fold, epoch_i))\n",
    "                torch.save(model.module.state_dict(), \n",
    "                           path.format(fold, epoch_i))\n",
    "                pickle.dump(losses, open(path.format(fold, 'loss'), 'wb'))\n",
    "                print(path)\n",
    "\n",
    "            train_dataset.converge_appearence(decay=converge_appearence)\n",
    "\n",
    "    except KeyboardInterrupt:\n",
    "        return model, losses\n",
    "\n",
    "    return model, losses"
   ]
  },
  {
   "cell_type": "code",
   "execution_count": 24,
   "metadata": {},
   "outputs": [],
   "source": [
    "import pandas as pd\n",
    "\n",
    "DECAY_EPOCHS = -1\n",
    "template = 'classification_checkpoints/best_resnext101_64/fold_{}_checkpoint.epoch_{}'\n",
    "df = pd.read_csv(PATHS['CSV'])"
   ]
  },
  {
   "cell_type": "code",
   "execution_count": 25,
   "metadata": {},
   "outputs": [],
   "source": [
    "fold = 0\n",
    "checkpoints_pth = 'snapshot_emb/'\n",
    "postfix = '_pnt{}_vrs{}'\n",
    "model_points = glob(template.format(fold, '*'))\n",
    "\n",
    "for point, model_pth in enumerate(model_points):\n",
    "    for vrs in range(VRS_NB):\n",
    "\n",
    "        path = os.path.join(checkpoints_pth, 'fold_{}_checkpoint.epoch_1' + postfix)\n",
    "        if os.path.isfile(path.format(fold, point, vrs)):\n",
    "            continue\n",
    "\n",
    "        print('Model path: {}'.format(model_pth))\n",
    "        print('point: {}, vrs: {}'.format(point, vrs))\n",
    "\n",
    "        _, losses = orchestrate(\n",
    "            data_dir=PATHS['DATA'],\n",
    "            fold=fold,\n",
    "            df=df,\n",
    "            postfix=postfix.format(point, vrs),\n",
    "            epoch_nb=2,\n",
    "            checkpoints_pth=checkpoints_pth, \n",
    "            model_pth=model_pth,\n",
    "            aug_strength=1.,\n",
    "            converge_appearence=.0,\n",
    "            strength_decay=.97,\n",
    "            min_strength=0.,\n",
    "            verbose=True,\n",
    "            train_batch_size=8,\n",
    "            clf_freeze_iter=-1,\n",
    "            sgd_iter=EPOCHS_NB,\n",
    "            hard_negative_miner=HardNegativeMiner(rate=10),\n",
    "            lr_scheduler=optim.lr_scheduler.ExponentialLR,\n",
    "            devices=[0, 1]\n",
    "        )"
   ]
  },
  {
   "cell_type": "code",
   "execution_count": 25,
   "metadata": {},
   "outputs": [],
   "source": [
    "def devide_sd(sd, coef=1):\n",
    "    for k, v in sd.items():\n",
    "        sd[k] = v / coef\n",
    "    return sd\n",
    "\n",
    "\n",
    "def combine(model_pth, fold, pnt):\n",
    "    model1 = get_model(checkpoint=model_pth)\n",
    "    model2 = [get_model(\n",
    "        checkpoint='snapshot_emb/fold_{}_checkpoint.epoch_0_pnt{}_vrs{}'.format(fold, pnt, i)) for i in range(3)]\n",
    "    models = [model1] + model2\n",
    "    return models\n",
    "\n",
    "\n",
    "def combine1(model_pth, fold, pnt):\n",
    "#     model1 = get_model(checkpoint=model_pth)\n",
    "    model2 = [get_model(\n",
    "        checkpoint='snapshot_emb/fold_{}_checkpoint.epoch_0_pnt{}_vrs{}'.format(fold, pnt, i)) for i in range(3)]\n",
    "#     models = [model1] + model2\n",
    "    return model2\n",
    "\n",
    "\n",
    "def combine2(model_pths):\n",
    "    model2 = [get_model(checkpoint=pth) for pth in model_pths]\n",
    "#     models = [model1] + model2\n",
    "    return model2\n",
    "\n",
    "\n",
    "def blender(models):\n",
    "    sds = [model.state_dict() for model in models]\n",
    "    sd = devide_sd(sds[0], len(sds))\n",
    "    for i, sd_ in enumerate(sds[1:]):\n",
    "        for k, v in devide_sd(sd_, len(sds)).items():\n",
    "            sd[k] += v\n",
    "\n",
    "    msd = models[0].state_dict()\n",
    "    sd = {k: v for k, v in sd.items() if k in msd.keys()}\n",
    "    print('Overlapped keys: {}'.format(len(sd.keys())))\n",
    "    msd.update(sd)\n",
    "    models[0].load_state_dict(msd)\n",
    "    return models[0]\n"
   ]
  },
  {
   "cell_type": "code",
   "execution_count": 26,
   "metadata": {},
   "outputs": [],
   "source": [
    "def compute_acc(model, fold, df):\n",
    "    t, v = get_datasets(PATHS['DATA'], fold, df, 1)\n",
    "    _, v = get_datagens(t, v, df, 8)\n",
    "    l, pred, trues = validate(model, nn.CrossEntropyLoss(), v)\n",
    "\n",
    "    cnf_matrix = [confusion_matrix(t, p) \n",
    "                    for t, p in zip([trues], [pred])]\n",
    "    accs = np.array([cnf.diagonal() / cnf.sum(1) for cnf in cnf_matrix])\n",
    "    print(np.mean(accs, axis=1))\n",
    "\n",
    "    fig = plt.figure()\n",
    "    axes = fig.add_subplot(111)\n",
    "    CLASSES = ['MEL', 'NV', 'BCC', 'AKIEC', 'BKL', 'DF', 'VASC']\n",
    "    plot_confusion_matrix(cnf_matrix[-1], classes=CLASSES, fig=fig, axes=axes)\n",
    "    plt.show()\n",
    "    return accs, cnf_matrix"
   ]
  },
  {
   "cell_type": "code",
   "execution_count": null,
   "metadata": {},
   "outputs": [],
   "source": []
  },
  {
   "cell_type": "code",
   "execution_count": 30,
   "metadata": {},
   "outputs": [
    {
     "name": "stdout",
     "output_type": "stream",
     "text": [
      "Model path: classification_checkpoints/best_resnext101_64/fold_0_checkpoint.epoch_3 \n",
      "fold: 0, point: 0\n",
      "Overlapped keys: 520\n",
      "Overlapped keys: 522\n",
      "Overlapped keys: 520\n",
      "Overlapped keys: 522\n",
      "Overlapped keys: 520\n",
      "Overlapped keys: 522\n",
      "Overlapped keys: 520\n"
     ]
    },
    {
     "name": "stderr",
     "output_type": "stream",
     "text": [
      "  0%|          | 0/7512 [00:00<?, ?it/s]"
     ]
    },
    {
     "name": "stdout",
     "output_type": "stream",
     "text": [
      "Overlapped keys: 522\n",
      "Overlapped keys: 522\n"
     ]
    },
    {
     "name": "stderr",
     "output_type": "stream",
     "text": [
      "100%|██████████| 7512/7512 [00:09<00:00, 801.88it/s]\n",
      "100%|██████████| 2503/2503 [00:03<00:00, 801.20it/s]\n",
      "100%|██████████| 157/157 [01:39<00:00,  1.58it/s]\n"
     ]
    },
    {
     "name": "stdout",
     "output_type": "stream",
     "text": [
      "[0.83966232]\n"
     ]
    },
    {
     "data": {
      "image/png": "[encoded data removed]",
      "text/plain": [
       "<Figure size 432x288 with 2 Axes>"
      ]
     },
     "metadata": {},
     "output_type": "display_data"
    },
    {
     "name": "stdout",
     "output_type": "stream",
     "text": [
      "Model path: classification_checkpoints/best_resnext101_64/fold_0_checkpoint.epoch_5 \n",
      "fold: 0, point: 1\n",
      "Overlapped keys: 520\n",
      "Overlapped keys: 522\n",
      "Overlapped keys: 520\n",
      "Overlapped keys: 522\n",
      "Overlapped keys: 520\n",
      "Overlapped keys: 522\n",
      "Overlapped keys: 520\n"
     ]
    },
    {
     "name": "stderr",
     "output_type": "stream",
     "text": [
      "  0%|          | 0/7512 [00:00<?, ?it/s]"
     ]
    },
    {
     "name": "stdout",
     "output_type": "stream",
     "text": [
      "Overlapped keys: 522\n",
      "Overlapped keys: 522\n"
     ]
    },
    {
     "name": "stderr",
     "output_type": "stream",
     "text": [
      "100%|██████████| 7512/7512 [00:09<00:00, 800.76it/s]\n",
      "100%|██████████| 2503/2503 [00:03<00:00, 802.29it/s]\n",
      "100%|██████████| 157/157 [01:39<00:00,  1.58it/s]\n"
     ]
    },
    {
     "name": "stdout",
     "output_type": "stream",
     "text": [
      "[0.84497141]\n"
     ]
    },
    {
     "data": {
      "image/png": "[encoded data removed]",
      "text/plain": [
       "<Figure size 432x288 with 2 Axes>"
      ]
     },
     "metadata": {},
     "output_type": "display_data"
    },
    {
     "name": "stdout",
     "output_type": "stream",
     "text": [
      "Model path: classification_checkpoints/best_resnext101_64/fold_1_checkpoint.epoch_6 \n",
      "fold: 1, point: 0\n",
      "Overlapped keys: 520\n",
      "Overlapped keys: 522\n",
      "Overlapped keys: 520\n",
      "Overlapped keys: 522\n",
      "Overlapped keys: 520\n",
      "Overlapped keys: 522\n",
      "Overlapped keys: 520\n"
     ]
    },
    {
     "name": "stderr",
     "output_type": "stream",
     "text": [
      "  0%|          | 0/7512 [00:00<?, ?it/s]"
     ]
    },
    {
     "name": "stdout",
     "output_type": "stream",
     "text": [
      "Overlapped keys: 522\n",
      "Overlapped keys: 522\n"
     ]
    },
    {
     "name": "stderr",
     "output_type": "stream",
     "text": [
      "100%|██████████| 7512/7512 [00:09<00:00, 806.34it/s]\n",
      "100%|██████████| 2503/2503 [00:03<00:00, 804.43it/s]\n",
      "100%|██████████| 157/157 [01:40<00:00,  1.57it/s]\n"
     ]
    },
    {
     "name": "stdout",
     "output_type": "stream",
     "text": [
      "[0.80554394]\n"
     ]
    },
    {
     "data": {
      "image/png": "[encoded data removed]",
      "text/plain": [
       "<Figure size 432x288 with 2 Axes>"
      ]
     },
     "metadata": {},
     "output_type": "display_data"
    },
    {
     "name": "stdout",
     "output_type": "stream",
     "text": [
      "Model path: classification_checkpoints/best_resnext101_64/fold_1_checkpoint.epoch_9 \n",
      "fold: 1, point: 1\n",
      "Overlapped keys: 520\n",
      "Overlapped keys: 522\n",
      "Overlapped keys: 520\n",
      "Overlapped keys: 522\n",
      "Overlapped keys: 520\n",
      "Overlapped keys: 522\n",
      "Overlapped keys: 520\n"
     ]
    },
    {
     "name": "stderr",
     "output_type": "stream",
     "text": [
      "  0%|          | 0/7512 [00:00<?, ?it/s]"
     ]
    },
    {
     "name": "stdout",
     "output_type": "stream",
     "text": [
      "Overlapped keys: 522\n",
      "Overlapped keys: 522\n"
     ]
    },
    {
     "name": "stderr",
     "output_type": "stream",
     "text": [
      "100%|██████████| 7512/7512 [00:09<00:00, 804.69it/s]\n",
      "100%|██████████| 2503/2503 [00:03<00:00, 807.88it/s]\n",
      "100%|██████████| 157/157 [01:39<00:00,  1.57it/s]"
     ]
    },
    {
     "name": "stdout",
     "output_type": "stream",
     "text": [
      "[0.80832272]\n"
     ]
    },
    {
     "name": "stderr",
     "output_type": "stream",
     "text": [
      "\n"
     ]
    },
    {
     "data": {
      "image/png": "[encoded data removed]",
      "text/plain": [
       "<Figure size 432x288 with 2 Axes>"
      ]
     },
     "metadata": {},
     "output_type": "display_data"
    },
    {
     "name": "stdout",
     "output_type": "stream",
     "text": [
      "Model path: classification_checkpoints/best_resnext101_64/fold_2_checkpoint.epoch_10 \n",
      "fold: 2, point: 0\n",
      "Overlapped keys: 520\n",
      "Overlapped keys: 522\n",
      "Overlapped keys: 520\n",
      "Overlapped keys: 522\n",
      "Overlapped keys: 520\n",
      "Overlapped keys: 522\n",
      "Overlapped keys: 520\n"
     ]
    },
    {
     "name": "stderr",
     "output_type": "stream",
     "text": [
      "  0%|          | 0/7512 [00:00<?, ?it/s]"
     ]
    },
    {
     "name": "stdout",
     "output_type": "stream",
     "text": [
      "Overlapped keys: 522\n",
      "Overlapped keys: 522\n"
     ]
    },
    {
     "name": "stderr",
     "output_type": "stream",
     "text": [
      "100%|██████████| 7512/7512 [00:09<00:00, 760.50it/s]\n",
      "100%|██████████| 2503/2503 [00:03<00:00, 803.53it/s]\n",
      "100%|██████████| 157/157 [01:39<00:00,  1.57it/s]\n"
     ]
    },
    {
     "name": "stdout",
     "output_type": "stream",
     "text": [
      "[0.77137613]\n"
     ]
    },
    {
     "data": {
      "image/png": "[encoded data removed]",
      "text/plain": [
       "<Figure size 432x288 with 2 Axes>"
      ]
     },
     "metadata": {},
     "output_type": "display_data"
    },
    {
     "name": "stdout",
     "output_type": "stream",
     "text": [
      "Model path: classification_checkpoints/best_resnext101_64/fold_2_checkpoint.epoch_6 \n",
      "fold: 2, point: 1\n",
      "Overlapped keys: 520\n",
      "Overlapped keys: 522\n",
      "Overlapped keys: 520\n",
      "Overlapped keys: 522\n",
      "Overlapped keys: 520\n",
      "Overlapped keys: 522\n",
      "Overlapped keys: 520\n"
     ]
    },
    {
     "name": "stderr",
     "output_type": "stream",
     "text": [
      "  0%|          | 0/7512 [00:00<?, ?it/s]"
     ]
    },
    {
     "name": "stdout",
     "output_type": "stream",
     "text": [
      "Overlapped keys: 522\n",
      "Overlapped keys: 522\n"
     ]
    },
    {
     "name": "stderr",
     "output_type": "stream",
     "text": [
      "100%|██████████| 7512/7512 [00:10<00:00, 743.27it/s]\n",
      "100%|██████████| 2503/2503 [00:03<00:00, 807.24it/s]\n",
      "100%|██████████| 157/157 [01:41<00:00,  1.55it/s]\n"
     ]
    },
    {
     "name": "stdout",
     "output_type": "stream",
     "text": [
      "[0.79218774]\n"
     ]
    },
    {
     "data": {
      "image/png": "[encoded data removed]",
      "text/plain": [
       "<Figure size 432x288 with 2 Axes>"
      ]
     },
     "metadata": {},
     "output_type": "display_data"
    },
    {
     "name": "stdout",
     "output_type": "stream",
     "text": [
      "Model path: classification_checkpoints/best_resnext101_64/fold_3_checkpoint.epoch_6 \n",
      "fold: 3, point: 0\n",
      "Overlapped keys: 520\n",
      "Overlapped keys: 522\n",
      "Overlapped keys: 520\n",
      "Overlapped keys: 522\n",
      "Overlapped keys: 520\n",
      "Overlapped keys: 522\n",
      "Overlapped keys: 520\n"
     ]
    },
    {
     "name": "stderr",
     "output_type": "stream",
     "text": [
      "  0%|          | 0/7512 [00:00<?, ?it/s]"
     ]
    },
    {
     "name": "stdout",
     "output_type": "stream",
     "text": [
      "Overlapped keys: 522\n",
      "Overlapped keys: 522\n"
     ]
    },
    {
     "name": "stderr",
     "output_type": "stream",
     "text": [
      "100%|██████████| 7512/7512 [00:09<00:00, 785.68it/s]\n",
      "100%|██████████| 2503/2503 [00:03<00:00, 806.16it/s]\n",
      "100%|██████████| 157/157 [01:43<00:00,  1.51it/s]\n"
     ]
    },
    {
     "name": "stdout",
     "output_type": "stream",
     "text": [
      "[0.78588167]\n"
     ]
    },
    {
     "data": {
      "image/png": "[encoded data removed]",
      "text/plain": [
       "<Figure size 432x288 with 2 Axes>"
      ]
     },
     "metadata": {},
     "output_type": "display_data"
    },
    {
     "name": "stdout",
     "output_type": "stream",
     "text": [
      "Model path: classification_checkpoints/best_resnext101_64/fold_3_checkpoint.epoch_4 \n",
      "fold: 3, point: 1\n",
      "Overlapped keys: 520\n",
      "Overlapped keys: 522\n",
      "Overlapped keys: 520\n",
      "Overlapped keys: 522\n",
      "Overlapped keys: 520\n",
      "Overlapped keys: 522\n",
      "Overlapped keys: 520\n"
     ]
    },
    {
     "name": "stderr",
     "output_type": "stream",
     "text": [
      "  0%|          | 0/7512 [00:00<?, ?it/s]"
     ]
    },
    {
     "name": "stdout",
     "output_type": "stream",
     "text": [
      "Overlapped keys: 522\n",
      "Overlapped keys: 522\n"
     ]
    },
    {
     "name": "stderr",
     "output_type": "stream",
     "text": [
      "100%|██████████| 7512/7512 [00:09<00:00, 802.14it/s]\n",
      "100%|██████████| 2503/2503 [00:03<00:00, 806.56it/s]\n",
      "100%|██████████| 157/157 [01:44<00:00,  1.50it/s]\n"
     ]
    },
    {
     "name": "stdout",
     "output_type": "stream",
     "text": [
      "[0.77192509]\n"
     ]
    },
    {
     "data": {
      "image/png": "[encoded data removed]",
      "text/plain": [
       "<Figure size 432x288 with 2 Axes>"
      ]
     },
     "metadata": {},
     "output_type": "display_data"
    }
   ],
   "source": [
    "accses, cnfs = list(), list()\n",
    "for fold in range(4):\n",
    "    model_points = glob(template.format(fold, '*'))\n",
    "    for point, model_pth in enumerate(model_points):\n",
    "        print('Model path: {} \\nfold: {}, point: {}'.format(model_pth, fold, point))\n",
    "        models = combine(model_pth, fold, point)\n",
    "        model = blender(models)\n",
    "        accs, cnf = compute_acc(model, fold, df)\n",
    "        accses.append(accs)\n",
    "        cnfs.append(cnf)"
   ]
  },
  {
   "cell_type": "code",
   "execution_count": 35,
   "metadata": {},
   "outputs": [
    {
     "name": "stdout",
     "output_type": "stream",
     "text": [
      "Model path: c \n",
      "fold: 0, point: both\n",
      "Overlapped keys: 520\n",
      "Overlapped keys: 522\n",
      "Overlapped keys: 520\n"
     ]
    },
    {
     "name": "stderr",
     "output_type": "stream",
     "text": [
      "  0%|          | 0/7512 [00:00<?, ?it/s]"
     ]
    },
    {
     "name": "stdout",
     "output_type": "stream",
     "text": [
      "Overlapped keys: 522\n",
      "Overlapped keys: 522\n"
     ]
    },
    {
     "name": "stderr",
     "output_type": "stream",
     "text": [
      "100%|██████████| 7512/7512 [00:09<00:00, 806.77it/s]\n",
      "100%|██████████| 2503/2503 [00:03<00:00, 807.36it/s]\n",
      "100%|██████████| 157/157 [01:36<00:00,  1.62it/s]"
     ]
    },
    {
     "name": "stdout",
     "output_type": "stream",
     "text": [
      "[0.82829435]\n"
     ]
    },
    {
     "name": "stderr",
     "output_type": "stream",
     "text": [
      "\n"
     ]
    },
    {
     "data": {
      "image/png": "[encoded data removed]",
      "text/plain": [
       "<Figure size 432x288 with 2 Axes>"
      ]
     },
     "metadata": {},
     "output_type": "display_data"
    },
    {
     "name": "stdout",
     "output_type": "stream",
     "text": [
      "Model path: c \n",
      "fold: 1, point: both\n",
      "Overlapped keys: 520\n",
      "Overlapped keys: 522\n",
      "Overlapped keys: 520\n"
     ]
    },
    {
     "name": "stderr",
     "output_type": "stream",
     "text": [
      "  0%|          | 0/7512 [00:00<?, ?it/s]"
     ]
    },
    {
     "name": "stdout",
     "output_type": "stream",
     "text": [
      "Overlapped keys: 522\n",
      "Overlapped keys: 522\n"
     ]
    },
    {
     "name": "stderr",
     "output_type": "stream",
     "text": [
      "100%|██████████| 7512/7512 [00:09<00:00, 808.14it/s]\n",
      "100%|██████████| 2503/2503 [00:03<00:00, 809.60it/s]\n",
      "100%|██████████| 157/157 [01:37<00:00,  1.61it/s]"
     ]
    },
    {
     "name": "stdout",
     "output_type": "stream",
     "text": [
      "[0.79755225]\n"
     ]
    },
    {
     "name": "stderr",
     "output_type": "stream",
     "text": [
      "\n"
     ]
    },
    {
     "data": {
      "image/png": "[encoded data removed]",
      "text/plain": [
       "<Figure size 432x288 with 2 Axes>"
      ]
     },
     "metadata": {},
     "output_type": "display_data"
    },
    {
     "name": "stdout",
     "output_type": "stream",
     "text": [
      "Model path: c \n",
      "fold: 2, point: both\n",
      "Overlapped keys: 520\n",
      "Overlapped keys: 522\n",
      "Overlapped keys: 520\n"
     ]
    },
    {
     "name": "stderr",
     "output_type": "stream",
     "text": [
      "  0%|          | 0/7512 [00:00<?, ?it/s]"
     ]
    },
    {
     "name": "stdout",
     "output_type": "stream",
     "text": [
      "Overlapped keys: 522\n",
      "Overlapped keys: 522\n"
     ]
    },
    {
     "name": "stderr",
     "output_type": "stream",
     "text": [
      "100%|██████████| 7512/7512 [00:09<00:00, 790.62it/s]\n",
      "100%|██████████| 2503/2503 [00:03<00:00, 808.03it/s]\n",
      "100%|██████████| 157/157 [01:37<00:00,  1.61it/s]\n"
     ]
    },
    {
     "name": "stdout",
     "output_type": "stream",
     "text": [
      "[0.79652088]\n"
     ]
    },
    {
     "data": {
      "image/png": "[encoded data removed]",
      "text/plain": [
       "<Figure size 432x288 with 2 Axes>"
      ]
     },
     "metadata": {},
     "output_type": "display_data"
    },
    {
     "name": "stdout",
     "output_type": "stream",
     "text": [
      "Model path: c \n",
      "fold: 3, point: both\n",
      "Overlapped keys: 520\n",
      "Overlapped keys: 522\n",
      "Overlapped keys: 520\n"
     ]
    },
    {
     "name": "stderr",
     "output_type": "stream",
     "text": [
      "  0%|          | 0/7512 [00:00<?, ?it/s]"
     ]
    },
    {
     "name": "stdout",
     "output_type": "stream",
     "text": [
      "Overlapped keys: 522\n",
      "Overlapped keys: 522\n"
     ]
    },
    {
     "name": "stderr",
     "output_type": "stream",
     "text": [
      "100%|██████████| 7512/7512 [00:09<00:00, 806.07it/s]\n",
      "100%|██████████| 2503/2503 [00:03<00:00, 803.98it/s]\n",
      "100%|██████████| 157/157 [01:37<00:00,  1.61it/s]\n"
     ]
    },
    {
     "name": "stdout",
     "output_type": "stream",
     "text": [
      "[0.77391915]\n"
     ]
    },
    {
     "data": {
      "image/png": "[encoded data removed]",
      "text/plain": [
       "<Figure size 432x288 with 2 Axes>"
      ]
     },
     "metadata": {},
     "output_type": "display_data"
    }
   ],
   "source": [
    "accses, cnfs = list(), list()\n",
    "for fold in range(4):\n",
    "    model_points = glob(template.format(fold, '*'))\n",
    "    print('Model path: {} \\nfold: {}, point: {}'.format(model_points[0], fold, 'both'))\n",
    "    models = combine2(model_points)\n",
    "    model = blender(models)\n",
    "    accs, cnf = compute_acc(model, fold, df)\n",
    "    accses.append(accs)\n",
    "    cnfs.append(cnf)"
   ]
  },
  {
   "cell_type": "markdown",
   "metadata": {},
   "source": [
    "# Classification Inferens "
   ]
  },
  {
   "cell_type": "code",
   "execution_count": 25,
   "metadata": {},
   "outputs": [],
   "source": [
    "from torchvision.transforms import ToTensor, Normalize, Compose\n",
    "from utils.smooth_tiled_predictions import predict_img_with_smooth_windowing\n",
    "\n",
    "\n",
    "img_transform = Compose([\n",
    "    ToTensor(),\n",
    "    Normalize(mean=[0.57053024, 0.54612805, 0.76352107], std=[0.09505704, 0.0857232 , 0.09826472])\n",
    "])"
   ]
  },
  {
   "cell_type": "code",
   "execution_count": 26,
   "metadata": {},
   "outputs": [],
   "source": [
    "def devide_sd(sd, coef=1):\n",
    "    for k, v in sd.items():\n",
    "        sd[k] = v / coef\n",
    "    return sd\n",
    "\n",
    "\n",
    "def combine(model_pth, fold, pnt):\n",
    "    model1 = get_model(checkpoint=model_pth)\n",
    "    model2 = [get_model(\n",
    "        checkpoint='snapshot_emb/fold_{}_checkpoint.epoch_0_pnt{}_vrs{}'.format(fold, pnt, i)) for i in range(3)]\n",
    "    models = [model1] + model2\n",
    "    return models\n",
    "\n",
    "\n",
    "def combine1(model_pth, fold, pnt):\n",
    "#     model1 = get_model(checkpoint=model_pth)\n",
    "    model2 = [get_model(\n",
    "        checkpoint='snapshot_emb/fold_{}_checkpoint.epoch_0_pnt{}_vrs{}'.format(fold, pnt, i)) for i in range(3)]\n",
    "#     models = [model1] + model2\n",
    "    return model2\n",
    "\n",
    "\n",
    "def combine2(model_pths):\n",
    "    model2 = [get_model(checkpoint=pth) for pth in model_pths]\n",
    "#     models = [model1] + model2\n",
    "    return model2\n",
    "\n",
    "\n",
    "def blender(models):\n",
    "    sds = [model.state_dict() for model in models]\n",
    "    sd = devide_sd(sds[0], len(sds))\n",
    "    for i, sd_ in enumerate(sds[1:]):\n",
    "        for k, v in devide_sd(sd_, len(sds)).items():\n",
    "            sd[k] += v\n",
    "\n",
    "    msd = models[0].state_dict()\n",
    "    sd = {k: v for k, v in sd.items() if k in msd.keys()}\n",
    "    print('Overlapped keys: {}'.format(len(sd.keys())))\n",
    "    msd.update(sd)\n",
    "    models[0].load_state_dict(msd)\n",
    "    return models[0]\n"
   ]
  },
  {
   "cell_type": "code",
   "execution_count": 27,
   "metadata": {},
   "outputs": [],
   "source": [
    "def split_img(im, side=448):\n",
    "    step = (im.shape[1] - side) // 3\n",
    "    im = im[1:]\n",
    "    return np.stack([\n",
    "        im[:side, i * step: i * step + side]\n",
    "        for i in range(3)\n",
    "    ])"
   ]
  },
  {
   "cell_type": "code",
   "execution_count": 28,
   "metadata": {},
   "outputs": [],
   "source": [
    "def _rotate_mirror_do(im):\n",
    "    \"\"\"\n",
    "    Duplicate an np array (image) of shape (x, y, nb_channels) 8 times, in order\n",
    "    to have all the possible rotations and mirrors of that image that fits the\n",
    "    possible 90 degrees rotations.\n",
    "    It is the D_4 (D4) Dihedral group:\n",
    "    https://en.wikipedia.org/wiki/Dihedral_group\n",
    "    \"\"\"\n",
    "    mirrs = []\n",
    "    mirrs.append(np.array(im))\n",
    "    mirrs.append(np.rot90(np.array(im), axes=(0, 1), k=1))\n",
    "    mirrs.append(np.rot90(np.array(im), axes=(0, 1), k=2))\n",
    "    mirrs.append(np.rot90(np.array(im), axes=(0, 1), k=3))\n",
    "    im = np.array(im)[:, ::-1]\n",
    "    mirrs.append(np.array(im))\n",
    "    mirrs.append(np.rot90(np.array(im), axes=(0, 1), k=1))\n",
    "    mirrs.append(np.rot90(np.array(im), axes=(0, 1), k=2))\n",
    "    mirrs.append(np.rot90(np.array(im), axes=(0, 1), k=3))\n",
    "    return np.array(mirrs)\n",
    "\n",
    "\n",
    "def _rotate_mirror_undo(im_mirrs):\n",
    "    \"\"\"\n",
    "    merges a list of 8 np arrays (images) of shape (x, y, nb_channels) generated\n",
    "    from the `_rotate_mirror_do` function. Each images might have changed and\n",
    "    merging them implies to rotated them back in order and average things out.\n",
    "    It is the D_4 (D4) Dihedral group:\n",
    "    https://en.wikipedia.org/wiki/Dihedral_group\n",
    "    \"\"\"\n",
    "    origs = []\n",
    "    origs.append(np.array(im_mirrs[0]))\n",
    "    origs.append(np.rot90(np.array(im_mirrs[1]), axes=(0, 1), k=3))\n",
    "    origs.append(np.rot90(np.array(im_mirrs[2]), axes=(0, 1), k=2))\n",
    "    origs.append(np.rot90(np.array(im_mirrs[3]), axes=(0, 1), k=1))\n",
    "    origs.append(np.array(im_mirrs[4])[:, ::-1])\n",
    "    origs.append(np.rot90(np.array(im_mirrs[5]), axes=(0, 1), k=3)[:, ::-1])\n",
    "    origs.append(np.rot90(np.array(im_mirrs[6]), axes=(0, 1), k=2)[:, ::-1])\n",
    "    origs.append(np.rot90(np.array(im_mirrs[7]), axes=(0, 1), k=1)[:, ::-1])\n",
    "    return np.mean(origs, axis=0)"
   ]
  },
  {
   "cell_type": "code",
   "execution_count": 33,
   "metadata": {},
   "outputs": [
    {
     "name": "stderr",
     "output_type": "stream",
     "text": [
      "100%|██████████| 193/193 [00:00<00:00, 240636.35it/s]\n"
     ]
    }
   ],
   "source": [
    "dataset = ISIC_Dataset(\n",
    "    '../data/ISIC2018_Task3_Validation_Input/', \n",
    "    is_test=True, \n",
    "    apply_transform=False\n",
    ")"
   ]
  },
  {
   "cell_type": "code",
   "execution_count": 34,
   "metadata": {},
   "outputs": [],
   "source": [
    "def infer(model, dataset):\n",
    "    aref_aver = dict()\n",
    "    geom_aver = dict()\n",
    "    for i, (k, el) in tqdm(enumerate(dataset.paths.items()), total=len(dataset)):\n",
    "        img, _ = dataset[k]\n",
    "\n",
    "        if img.shape != (450, 600, 3):\n",
    "            print(k, el)\n",
    "\n",
    "        img = split_img(img)\n",
    "        img = [_rotate_mirror_do(im) for im in img]\n",
    "        img = [torch.stack([img_transform(m) for m in im]) for im in img]\n",
    "\n",
    "        with torch.no_grad():\n",
    "            predictions = [model(Variable(im).cuda()) for im in img]\n",
    "            preds = [F.softmax(pred, dim=1).data.cpu().numpy() for pred in predictions]\n",
    "\n",
    "        preds = np.array(preds).reshape(-1, CLASS_NB)\n",
    "        aref_aver[k] = preds.mean(0)\n",
    "        geom_aver[k] = np.product(preds, 0) ** (1 / len(preds))\n",
    "    return aref_aver, geom_aver"
   ]
  },
  {
   "cell_type": "code",
   "execution_count": 36,
   "metadata": {},
   "outputs": [
    {
     "name": "stdout",
     "output_type": "stream",
     "text": [
      "Model path: classification_checkpoints/best_resnext101_64/fold_0_checkpoint.epoch_3 \n",
      "fold: 0, point: 0\n",
      "Overlapped keys: 520\n",
      "Overlapped keys: 522\n",
      "Overlapped keys: 520\n",
      "Overlapped keys: 522\n",
      "Overlapped keys: 520\n",
      "Overlapped keys: 522\n",
      "Overlapped keys: 520\n"
     ]
    },
    {
     "name": "stderr",
     "output_type": "stream",
     "text": [
      "  0%|          | 0/193 [00:00<?, ?it/s]"
     ]
    },
    {
     "name": "stdout",
     "output_type": "stream",
     "text": [
      "Overlapped keys: 522\n",
      "Overlapped keys: 522\n"
     ]
    },
    {
     "name": "stderr",
     "output_type": "stream",
     "text": [
      "100%|██████████| 193/193 [02:18<00:00,  1.39it/s]\n"
     ]
    },
    {
     "name": "stdout",
     "output_type": "stream",
     "text": [
      "Model path: classification_checkpoints/best_resnext101_64/fold_0_checkpoint.epoch_5 \n",
      "fold: 0, point: 1\n",
      "Overlapped keys: 520\n",
      "Overlapped keys: 522\n",
      "Overlapped keys: 520\n",
      "Overlapped keys: 522\n",
      "Overlapped keys: 520\n",
      "Overlapped keys: 522\n",
      "Overlapped keys: 520\n"
     ]
    },
    {
     "name": "stderr",
     "output_type": "stream",
     "text": [
      "  0%|          | 0/193 [00:00<?, ?it/s]"
     ]
    },
    {
     "name": "stdout",
     "output_type": "stream",
     "text": [
      "Overlapped keys: 522\n",
      "Overlapped keys: 522\n"
     ]
    },
    {
     "name": "stderr",
     "output_type": "stream",
     "text": [
      "100%|██████████| 193/193 [02:16<00:00,  1.41it/s]\n"
     ]
    },
    {
     "name": "stdout",
     "output_type": "stream",
     "text": [
      "Model path: classification_checkpoints/best_resnext101_64/fold_1_checkpoint.epoch_6 \n",
      "fold: 1, point: 0\n",
      "Overlapped keys: 520\n",
      "Overlapped keys: 522\n",
      "Overlapped keys: 520\n",
      "Overlapped keys: 522\n",
      "Overlapped keys: 520\n",
      "Overlapped keys: 522\n",
      "Overlapped keys: 520\n"
     ]
    },
    {
     "name": "stderr",
     "output_type": "stream",
     "text": [
      "  0%|          | 0/193 [00:00<?, ?it/s]"
     ]
    },
    {
     "name": "stdout",
     "output_type": "stream",
     "text": [
      "Overlapped keys: 522\n",
      "Overlapped keys: 522\n"
     ]
    },
    {
     "name": "stderr",
     "output_type": "stream",
     "text": [
      "100%|██████████| 193/193 [02:15<00:00,  1.43it/s]\n"
     ]
    },
    {
     "name": "stdout",
     "output_type": "stream",
     "text": [
      "Model path: classification_checkpoints/best_resnext101_64/fold_1_checkpoint.epoch_9 \n",
      "fold: 1, point: 1\n",
      "Overlapped keys: 520\n",
      "Overlapped keys: 522\n",
      "Overlapped keys: 520\n",
      "Overlapped keys: 522\n",
      "Overlapped keys: 520\n",
      "Overlapped keys: 522\n",
      "Overlapped keys: 520\n"
     ]
    },
    {
     "name": "stderr",
     "output_type": "stream",
     "text": [
      "  0%|          | 0/193 [00:00<?, ?it/s]"
     ]
    },
    {
     "name": "stdout",
     "output_type": "stream",
     "text": [
      "Overlapped keys: 522\n",
      "Overlapped keys: 522\n"
     ]
    },
    {
     "name": "stderr",
     "output_type": "stream",
     "text": [
      "100%|██████████| 193/193 [02:16<00:00,  1.42it/s]\n"
     ]
    },
    {
     "name": "stdout",
     "output_type": "stream",
     "text": [
      "Model path: classification_checkpoints/best_resnext101_64/fold_2_checkpoint.epoch_10 \n",
      "fold: 2, point: 0\n",
      "Overlapped keys: 520\n",
      "Overlapped keys: 522\n",
      "Overlapped keys: 520\n",
      "Overlapped keys: 522\n",
      "Overlapped keys: 520\n",
      "Overlapped keys: 522\n",
      "Overlapped keys: 520\n"
     ]
    },
    {
     "name": "stderr",
     "output_type": "stream",
     "text": [
      "  0%|          | 0/193 [00:00<?, ?it/s]"
     ]
    },
    {
     "name": "stdout",
     "output_type": "stream",
     "text": [
      "Overlapped keys: 522\n",
      "Overlapped keys: 522\n"
     ]
    },
    {
     "name": "stderr",
     "output_type": "stream",
     "text": [
      "100%|██████████| 193/193 [02:16<00:00,  1.42it/s]\n"
     ]
    },
    {
     "name": "stdout",
     "output_type": "stream",
     "text": [
      "Model path: classification_checkpoints/best_resnext101_64/fold_2_checkpoint.epoch_6 \n",
      "fold: 2, point: 1\n",
      "Overlapped keys: 520\n",
      "Overlapped keys: 522\n",
      "Overlapped keys: 520\n",
      "Overlapped keys: 522\n",
      "Overlapped keys: 520\n",
      "Overlapped keys: 522\n",
      "Overlapped keys: 520\n"
     ]
    },
    {
     "name": "stderr",
     "output_type": "stream",
     "text": [
      "  0%|          | 0/193 [00:00<?, ?it/s]"
     ]
    },
    {
     "name": "stdout",
     "output_type": "stream",
     "text": [
      "Overlapped keys: 522\n",
      "Overlapped keys: 522\n"
     ]
    },
    {
     "name": "stderr",
     "output_type": "stream",
     "text": [
      "100%|██████████| 193/193 [02:14<00:00,  1.44it/s]\n"
     ]
    },
    {
     "name": "stdout",
     "output_type": "stream",
     "text": [
      "Model path: classification_checkpoints/best_resnext101_64/fold_3_checkpoint.epoch_6 \n",
      "fold: 3, point: 0\n",
      "Overlapped keys: 520\n",
      "Overlapped keys: 522\n",
      "Overlapped keys: 520\n",
      "Overlapped keys: 522\n",
      "Overlapped keys: 520\n",
      "Overlapped keys: 522\n",
      "Overlapped keys: 520\n"
     ]
    },
    {
     "name": "stderr",
     "output_type": "stream",
     "text": [
      "  0%|          | 0/193 [00:00<?, ?it/s]"
     ]
    },
    {
     "name": "stdout",
     "output_type": "stream",
     "text": [
      "Overlapped keys: 522\n",
      "Overlapped keys: 522\n"
     ]
    },
    {
     "name": "stderr",
     "output_type": "stream",
     "text": [
      "100%|██████████| 193/193 [02:17<00:00,  1.40it/s]\n"
     ]
    },
    {
     "name": "stdout",
     "output_type": "stream",
     "text": [
      "Model path: classification_checkpoints/best_resnext101_64/fold_3_checkpoint.epoch_4 \n",
      "fold: 3, point: 1\n",
      "Overlapped keys: 520\n",
      "Overlapped keys: 522\n",
      "Overlapped keys: 520\n",
      "Overlapped keys: 522\n",
      "Overlapped keys: 520\n",
      "Overlapped keys: 522\n",
      "Overlapped keys: 520\n"
     ]
    },
    {
     "name": "stderr",
     "output_type": "stream",
     "text": [
      "  0%|          | 0/193 [00:00<?, ?it/s]"
     ]
    },
    {
     "name": "stdout",
     "output_type": "stream",
     "text": [
      "Overlapped keys: 522\n",
      "Overlapped keys: 522\n"
     ]
    },
    {
     "name": "stderr",
     "output_type": "stream",
     "text": [
      "100%|██████████| 193/193 [02:15<00:00,  1.42it/s]\n"
     ]
    }
   ],
   "source": [
    "avers = dict()\n",
    "accses, cnfs = list(), list()\n",
    "\n",
    "for fold in range(4):\n",
    "    model_points = glob(template.format(fold, '*'))\n",
    "    for point, model_pth in enumerate(model_points):\n",
    "        print('Model path: {} \\nfold: {}, point: {}'.format(model_pth, fold, point))\n",
    "        models = combine(model_pth, fold, point)\n",
    "        model = blender(models)\n",
    "        model = torch.nn.DataParallel(model, device_ids=[0, 1])\n",
    "        model.eval();\n",
    "\n",
    "        avers[model_pth] = infer(model, dataset)\n"
   ]
  },
  {
   "cell_type": "code",
   "execution_count": 37,
   "metadata": {},
   "outputs": [],
   "source": [
    "weights = {\n",
    "    'fold_0_checkpoint.epoch_3': 0.83966232, \n",
    "    'fold_0_checkpoint.epoch_5': 0.84497141, \n",
    "    'fold_1_checkpoint.epoch_6': 0.80554394, \n",
    "    'fold_1_checkpoint.epoch_9': 0.80832272, \n",
    "    'fold_2_checkpoint.epoch_10': 0.77137613, \n",
    "    'fold_2_checkpoint.epoch_6': 0.79218774, \n",
    "    'fold_3_checkpoint.epoch_6': 0.78588167,\n",
    "    'fold_3_checkpoint.epoch_4': 0.77192509,\n",
    "}\n"
   ]
  },
  {
   "cell_type": "code",
   "execution_count": 38,
   "metadata": {},
   "outputs": [],
   "source": [
    "keys = defaultdict(list)\n",
    "preds = defaultdict(list)\n",
    "for model_pth, el in avers.items():\n",
    "    for k, arr in el[0].items():\n",
    "        keys[os.path.basename(model_pth)].append(k)\n",
    "        preds[os.path.basename(model_pth)].append(arr)\n",
    "\n",
    "# preds = np.array(preds)"
   ]
  },
  {
   "cell_type": "code",
   "execution_count": 39,
   "metadata": {},
   "outputs": [],
   "source": [
    "for k, el in preds.items():\n",
    "    preds[k] = np.array(el)"
   ]
  },
  {
   "cell_type": "code",
   "execution_count": 40,
   "metadata": {},
   "outputs": [
    {
     "data": {
      "text/plain": [
       "['MEL', 'NV', 'BCC', 'AKIEC', 'BKL', 'DF', 'VASC']"
      ]
     },
     "execution_count": 40,
     "metadata": {},
     "output_type": "execute_result"
    }
   ],
   "source": [
    "ATTRIBUTES"
   ]
  },
  {
   "cell_type": "code",
   "execution_count": 41,
   "metadata": {},
   "outputs": [
    {
     "data": {
      "image/png": "[encoded data removed]",
      "text/plain": [
       "<Figure size 432x288 with 1 Axes>"
      ]
     },
     "metadata": {},
     "output_type": "display_data"
    }
   ],
   "source": [
    "plt.hist(np.argmax(preds[list(preds.keys())[0]], axis=1), 7);"
   ]
  },
  {
   "cell_type": "code",
   "execution_count": 42,
   "metadata": {},
   "outputs": [],
   "source": [
    "ids_s = dict()\n",
    "for k, el in preds.items():\n",
    "    attrs = {\n",
    "        attr: [pred[i] for pred in preds[k]] \n",
    "        for i, attr in enumerate(ATTRIBUTES)\n",
    "    }\n",
    "    # attrs.update('image')\n",
    "    ids = pd.DataFrame({'image': keys[k]})\n",
    "    for i, attr in enumerate(ATTRIBUTES):\n",
    "        ids[attr] = [pred[i] for pred in preds[k]]\n",
    "    ids_s[k] = ids"
   ]
  },
  {
   "cell_type": "code",
   "execution_count": 43,
   "metadata": {},
   "outputs": [],
   "source": [
    "weights_sum = np.sum(list(weights.values()))\n",
    "preds = np.sum([\n",
    "    weights[k] * ids.values[:, 1:] \n",
    "    for k, ids in ids_s.items()], axis=0)"
   ]
  },
  {
   "cell_type": "code",
   "execution_count": 44,
   "metadata": {},
   "outputs": [],
   "source": [
    "# preds = np.mean([ids.values[:, 1:] for ids in ids_s], axis=0)\n",
    "# preds = np.prod([ids.values[:, 1:] for ids in ids_s], axis=0) ** (1 / CLASS_NB)\n",
    "args = np.argmax(np.array(preds), axis=1)\n",
    "for i, arg in enumerate(args):\n",
    "    preds[i] = 0.\n",
    "    preds[i, arg] = 1."
   ]
  },
  {
   "cell_type": "code",
   "execution_count": 45,
   "metadata": {},
   "outputs": [],
   "source": [
    "attrs = {\n",
    "    attr: [pred[i] for pred in preds] \n",
    "    for i, attr in enumerate(ATTRIBUTES)\n",
    "}\n",
    "# attrs.update('image')\n",
    "ids = pd.DataFrame({'image': ids['image']})\n",
    "for i, attr in enumerate(ATTRIBUTES):\n",
    "    ids[attr] = [pred[i] for pred in preds]\n"
   ]
  },
  {
   "cell_type": "code",
   "execution_count": 46,
   "metadata": {},
   "outputs": [
    {
     "data": {
      "text/html": [
       "<div>\n",
       "<style scoped>\n",
       "    .dataframe tbody tr th:only-of-type {\n",
       "        vertical-align: middle;\n",
       "    }\n",
       "\n",
       "    .dataframe tbody tr th {\n",
       "        vertical-align: top;\n",
       "    }\n",
       "\n",
       "    .dataframe thead th {\n",
       "        text-align: right;\n",
       "    }\n",
       "</style>\n",
       "<table border=\"1\" class=\"dataframe\">\n",
       "  <thead>\n",
       "    <tr style=\"text-align: right;\">\n",
       "      <th></th>\n",
       "      <th>image</th>\n",
       "      <th>MEL</th>\n",
       "      <th>NV</th>\n",
       "      <th>BCC</th>\n",
       "      <th>AKIEC</th>\n",
       "      <th>BKL</th>\n",
       "      <th>DF</th>\n",
       "      <th>VASC</th>\n",
       "    </tr>\n",
       "  </thead>\n",
       "  <tbody>\n",
       "    <tr>\n",
       "      <th>0</th>\n",
       "      <td>ISIC_0034368</td>\n",
       "      <td>0.0</td>\n",
       "      <td>0.0</td>\n",
       "      <td>0.0</td>\n",
       "      <td>0.0</td>\n",
       "      <td>1.0</td>\n",
       "      <td>0.0</td>\n",
       "      <td>0.0</td>\n",
       "    </tr>\n",
       "    <tr>\n",
       "      <th>1</th>\n",
       "      <td>ISIC_0034321</td>\n",
       "      <td>0.0</td>\n",
       "      <td>1.0</td>\n",
       "      <td>0.0</td>\n",
       "      <td>0.0</td>\n",
       "      <td>0.0</td>\n",
       "      <td>0.0</td>\n",
       "      <td>0.0</td>\n",
       "    </tr>\n",
       "    <tr>\n",
       "      <th>2</th>\n",
       "      <td>ISIC_0034433</td>\n",
       "      <td>0.0</td>\n",
       "      <td>0.0</td>\n",
       "      <td>1.0</td>\n",
       "      <td>0.0</td>\n",
       "      <td>0.0</td>\n",
       "      <td>0.0</td>\n",
       "      <td>0.0</td>\n",
       "    </tr>\n",
       "    <tr>\n",
       "      <th>3</th>\n",
       "      <td>ISIC_0034338</td>\n",
       "      <td>0.0</td>\n",
       "      <td>0.0</td>\n",
       "      <td>1.0</td>\n",
       "      <td>0.0</td>\n",
       "      <td>0.0</td>\n",
       "      <td>0.0</td>\n",
       "      <td>0.0</td>\n",
       "    </tr>\n",
       "    <tr>\n",
       "      <th>4</th>\n",
       "      <td>ISIC_0034354</td>\n",
       "      <td>0.0</td>\n",
       "      <td>0.0</td>\n",
       "      <td>0.0</td>\n",
       "      <td>0.0</td>\n",
       "      <td>1.0</td>\n",
       "      <td>0.0</td>\n",
       "      <td>0.0</td>\n",
       "    </tr>\n",
       "  </tbody>\n",
       "</table>\n",
       "</div>"
      ],
      "text/plain": [
       "          image  MEL   NV  BCC  AKIEC  BKL   DF  VASC\n",
       "0  ISIC_0034368  0.0  0.0  0.0    0.0  1.0  0.0   0.0\n",
       "1  ISIC_0034321  0.0  1.0  0.0    0.0  0.0  0.0   0.0\n",
       "2  ISIC_0034433  0.0  0.0  1.0    0.0  0.0  0.0   0.0\n",
       "3  ISIC_0034338  0.0  0.0  1.0    0.0  0.0  0.0   0.0\n",
       "4  ISIC_0034354  0.0  0.0  0.0    0.0  1.0  0.0   0.0"
      ]
     },
     "execution_count": 46,
     "metadata": {},
     "output_type": "execute_result"
    }
   ],
   "source": [
    "ids.head()"
   ]
  },
  {
   "cell_type": "code",
   "execution_count": 47,
   "metadata": {},
   "outputs": [
    {
     "data": {
      "text/html": [
       "<div>\n",
       "<style scoped>\n",
       "    .dataframe tbody tr th:only-of-type {\n",
       "        vertical-align: middle;\n",
       "    }\n",
       "\n",
       "    .dataframe tbody tr th {\n",
       "        vertical-align: top;\n",
       "    }\n",
       "\n",
       "    .dataframe thead th {\n",
       "        text-align: right;\n",
       "    }\n",
       "</style>\n",
       "<table border=\"1\" class=\"dataframe\">\n",
       "  <thead>\n",
       "    <tr style=\"text-align: right;\">\n",
       "      <th></th>\n",
       "      <th>image</th>\n",
       "      <th>MEL</th>\n",
       "      <th>NV</th>\n",
       "      <th>BCC</th>\n",
       "      <th>AKIEC</th>\n",
       "      <th>BKL</th>\n",
       "      <th>DF</th>\n",
       "      <th>VASC</th>\n",
       "    </tr>\n",
       "  </thead>\n",
       "  <tbody>\n",
       "  </tbody>\n",
       "</table>\n",
       "</div>"
      ],
      "text/plain": [
       "Empty DataFrame\n",
       "Columns: [image, MEL, NV, BCC, AKIEC, BKL, DF, VASC]\n",
       "Index: []"
      ]
     },
     "execution_count": 47,
     "metadata": {},
     "output_type": "execute_result"
    }
   ],
   "source": [
    "idxs = np.where((ids > .5).sum(1) != 2)[0]\n",
    "ids.loc[idxs]"
   ]
  },
  {
   "cell_type": "code",
   "execution_count": 48,
   "metadata": {},
   "outputs": [],
   "source": [
    "ids.to_csv('val_blended_weighted_last.csv', index=False)"
   ]
  },
  {
   "cell_type": "code",
   "execution_count": 250,
   "metadata": {},
   "outputs": [],
   "source": [
    "# pickle.dump(avers, open('test_dumped', 'wb'))"
   ]
  },
  {
   "cell_type": "code",
   "execution_count": null,
   "metadata": {},
   "outputs": [],
   "source": []
  },
  {
   "cell_type": "code",
   "execution_count": null,
   "metadata": {},
   "outputs": [],
   "source": []
  },
  {
   "cell_type": "code",
   "execution_count": null,
   "metadata": {},
   "outputs": [],
   "source": []
  },
  {
   "cell_type": "code",
   "execution_count": null,
   "metadata": {},
   "outputs": [],
   "source": []
  },
  {
   "cell_type": "code",
   "execution_count": null,
   "metadata": {},
   "outputs": [],
   "source": []
  },
  {
   "cell_type": "code",
   "execution_count": null,
   "metadata": {},
   "outputs": [],
   "source": []
  },
  {
   "cell_type": "code",
   "execution_count": null,
   "metadata": {},
   "outputs": [],
   "source": []
  },
  {
   "cell_type": "code",
   "execution_count": null,
   "metadata": {},
   "outputs": [],
   "source": []
  },
  {
   "cell_type": "code",
   "execution_count": null,
   "metadata": {},
   "outputs": [],
   "source": []
  },
  {
   "cell_type": "code",
   "execution_count": null,
   "metadata": {},
   "outputs": [],
   "source": []
  }
 ],
 "metadata": {
  "anaconda-cloud": {},
  "kernelspec": {
   "display_name": "Python 3",
   "language": "python",
   "name": "python3"
  },
  "language_info": {
   "codemirror_mode": {
    "name": "ipython",
    "version": 3
   },
   "file_extension": ".py",
   "mimetype": "text/x-python",
   "name": "python",
   "nbconvert_exporter": "python",
   "pygments_lexer": "ipython3",
   "version": "3.5.2"
  }
 },
 "nbformat": 4,
 "nbformat_minor": 2
}
